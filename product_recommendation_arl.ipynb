{
 "cells": [
  {
   "cell_type": "markdown",
   "metadata": {},
   "source": [
    "## Segment Based Product Recommendation System using Association Rule Learning (ARL) "
   ]
  },
  {
   "cell_type": "markdown",
   "metadata": {},
   "source": [
    "##### Link of data: https://archive.ics.uci.edu/ml/datasets/Online+Retail+II"
   ]
  },
  {
   "cell_type": "markdown",
   "metadata": {},
   "source": [
    "           "
   ]
  },
  {
   "cell_type": "markdown",
   "metadata": {},
   "source": [
    "##### In this project I tried to apply Association Rule Learning methods to create a basic recommendation system for retail dataset above"
   ]
  },
  {
   "cell_type": "markdown",
   "metadata": {},
   "source": [
    "     "
   ]
  },
  {
   "cell_type": "markdown",
   "metadata": {},
   "source": [
    "### Imports"
   ]
  },
  {
   "cell_type": "code",
   "execution_count": 53,
   "metadata": {},
   "outputs": [],
   "source": [
    "import datetime as dt\n",
    "import pandas as pd\n",
    "import pymysql\n",
    "from sqlalchemy import create_engine\n",
    "from sklearn.preprocessing import MinMaxScaler\n",
    "from lifetimes import BetaGeoFitter\n",
    "from lifetimes import GammaGammaFitter\n",
    "from mlxtend.frequent_patterns import apriori, association_rules"
   ]
  },
  {
   "cell_type": "markdown",
   "metadata": {},
   "source": [
    "##### This is how we read data from your own device\n",
    "##### There are multiple sheets which are consist of different years\n",
    "##### In this project we will focus on 2010-2011 sheet"
   ]
  },
  {
   "cell_type": "code",
   "execution_count": 62,
   "metadata": {},
   "outputs": [],
   "source": [
    "df_ = pd.read_excel(\"retail.xlsx\", sheet_name=\"Year 2010-2011\")"
   ]
  },
  {
   "cell_type": "code",
   "execution_count": 135,
   "metadata": {},
   "outputs": [],
   "source": [
    "df = df_.copy() # You better take a copy of your data. Because the data is hard to load in case of screw up :)"
   ]
  },
  {
   "cell_type": "markdown",
   "metadata": {},
   "source": [
    "### Data Preperation"
   ]
  },
  {
   "cell_type": "code",
   "execution_count": 134,
   "metadata": {},
   "outputs": [
    {
     "data": {
      "text/plain": [
       "(397925, 9)"
      ]
     },
     "execution_count": 134,
     "metadata": {},
     "output_type": "execute_result"
    }
   ],
   "source": [
    "df.shape"
   ]
  },
  {
   "cell_type": "code",
   "execution_count": 133,
   "metadata": {},
   "outputs": [
    {
     "data": {
      "text/html": [
       "<div>\n",
       "<style scoped>\n",
       "    .dataframe tbody tr th:only-of-type {\n",
       "        vertical-align: middle;\n",
       "    }\n",
       "\n",
       "    .dataframe tbody tr th {\n",
       "        vertical-align: top;\n",
       "    }\n",
       "\n",
       "    .dataframe thead th {\n",
       "        text-align: right;\n",
       "    }\n",
       "</style>\n",
       "<table border=\"1\" class=\"dataframe\">\n",
       "  <thead>\n",
       "    <tr style=\"text-align: right;\">\n",
       "      <th></th>\n",
       "      <th>Invoice</th>\n",
       "      <th>StockCode</th>\n",
       "      <th>Description</th>\n",
       "      <th>Quantity</th>\n",
       "      <th>InvoiceDate</th>\n",
       "      <th>Price</th>\n",
       "      <th>Customer ID</th>\n",
       "      <th>Country</th>\n",
       "      <th>TotalPrice</th>\n",
       "    </tr>\n",
       "  </thead>\n",
       "  <tbody>\n",
       "    <tr>\n",
       "      <th>0</th>\n",
       "      <td>536365</td>\n",
       "      <td>85123A</td>\n",
       "      <td>WHITE HANGING HEART T-LIGHT HOLDER</td>\n",
       "      <td>6.0</td>\n",
       "      <td>2010-12-01 08:26:00</td>\n",
       "      <td>2.55</td>\n",
       "      <td>17850.0</td>\n",
       "      <td>United Kingdom</td>\n",
       "      <td>15.30</td>\n",
       "    </tr>\n",
       "    <tr>\n",
       "      <th>1</th>\n",
       "      <td>536365</td>\n",
       "      <td>71053</td>\n",
       "      <td>WHITE METAL LANTERN</td>\n",
       "      <td>6.0</td>\n",
       "      <td>2010-12-01 08:26:00</td>\n",
       "      <td>3.39</td>\n",
       "      <td>17850.0</td>\n",
       "      <td>United Kingdom</td>\n",
       "      <td>20.34</td>\n",
       "    </tr>\n",
       "    <tr>\n",
       "      <th>2</th>\n",
       "      <td>536365</td>\n",
       "      <td>84406B</td>\n",
       "      <td>CREAM CUPID HEARTS COAT HANGER</td>\n",
       "      <td>8.0</td>\n",
       "      <td>2010-12-01 08:26:00</td>\n",
       "      <td>2.75</td>\n",
       "      <td>17850.0</td>\n",
       "      <td>United Kingdom</td>\n",
       "      <td>22.00</td>\n",
       "    </tr>\n",
       "    <tr>\n",
       "      <th>3</th>\n",
       "      <td>536365</td>\n",
       "      <td>84029G</td>\n",
       "      <td>KNITTED UNION FLAG HOT WATER BOTTLE</td>\n",
       "      <td>6.0</td>\n",
       "      <td>2010-12-01 08:26:00</td>\n",
       "      <td>3.39</td>\n",
       "      <td>17850.0</td>\n",
       "      <td>United Kingdom</td>\n",
       "      <td>20.34</td>\n",
       "    </tr>\n",
       "    <tr>\n",
       "      <th>4</th>\n",
       "      <td>536365</td>\n",
       "      <td>84029E</td>\n",
       "      <td>RED WOOLLY HOTTIE WHITE HEART.</td>\n",
       "      <td>6.0</td>\n",
       "      <td>2010-12-01 08:26:00</td>\n",
       "      <td>3.39</td>\n",
       "      <td>17850.0</td>\n",
       "      <td>United Kingdom</td>\n",
       "      <td>20.34</td>\n",
       "    </tr>\n",
       "  </tbody>\n",
       "</table>\n",
       "</div>"
      ],
      "text/plain": [
       "  Invoice StockCode                          Description  Quantity  \\\n",
       "0  536365    85123A   WHITE HANGING HEART T-LIGHT HOLDER       6.0   \n",
       "1  536365     71053                  WHITE METAL LANTERN       6.0   \n",
       "2  536365    84406B       CREAM CUPID HEARTS COAT HANGER       8.0   \n",
       "3  536365    84029G  KNITTED UNION FLAG HOT WATER BOTTLE       6.0   \n",
       "4  536365    84029E       RED WOOLLY HOTTIE WHITE HEART.       6.0   \n",
       "\n",
       "          InvoiceDate  Price  Customer ID         Country  TotalPrice  \n",
       "0 2010-12-01 08:26:00   2.55      17850.0  United Kingdom       15.30  \n",
       "1 2010-12-01 08:26:00   3.39      17850.0  United Kingdom       20.34  \n",
       "2 2010-12-01 08:26:00   2.75      17850.0  United Kingdom       22.00  \n",
       "3 2010-12-01 08:26:00   3.39      17850.0  United Kingdom       20.34  \n",
       "4 2010-12-01 08:26:00   3.39      17850.0  United Kingdom       20.34  "
      ]
     },
     "execution_count": 133,
     "metadata": {},
     "output_type": "execute_result"
    }
   ],
   "source": [
    "df.head()"
   ]
  },
  {
   "cell_type": "code",
   "execution_count": 6,
   "metadata": {},
   "outputs": [
    {
     "data": {
      "text/plain": [
       "Invoice             0\n",
       "StockCode           0\n",
       "Description      1454\n",
       "Quantity            0\n",
       "InvoiceDate         0\n",
       "Price               0\n",
       "Customer ID    135080\n",
       "Country             0\n",
       "dtype: int64"
      ]
     },
     "execution_count": 6,
     "metadata": {},
     "output_type": "execute_result"
    }
   ],
   "source": [
    "df.isna().sum()"
   ]
  },
  {
   "cell_type": "code",
   "execution_count": 7,
   "metadata": {},
   "outputs": [
    {
     "data": {
      "text/html": [
       "<div>\n",
       "<style scoped>\n",
       "    .dataframe tbody tr th:only-of-type {\n",
       "        vertical-align: middle;\n",
       "    }\n",
       "\n",
       "    .dataframe tbody tr th {\n",
       "        vertical-align: top;\n",
       "    }\n",
       "\n",
       "    .dataframe thead th {\n",
       "        text-align: right;\n",
       "    }\n",
       "</style>\n",
       "<table border=\"1\" class=\"dataframe\">\n",
       "  <thead>\n",
       "    <tr style=\"text-align: right;\">\n",
       "      <th></th>\n",
       "      <th>count</th>\n",
       "      <th>mean</th>\n",
       "      <th>std</th>\n",
       "      <th>min</th>\n",
       "      <th>1%</th>\n",
       "      <th>5%</th>\n",
       "      <th>10%</th>\n",
       "      <th>25%</th>\n",
       "      <th>50%</th>\n",
       "      <th>75%</th>\n",
       "      <th>90%</th>\n",
       "      <th>95%</th>\n",
       "      <th>99%</th>\n",
       "      <th>max</th>\n",
       "    </tr>\n",
       "  </thead>\n",
       "  <tbody>\n",
       "    <tr>\n",
       "      <th>Quantity</th>\n",
       "      <td>541910.0</td>\n",
       "      <td>9.552234</td>\n",
       "      <td>218.080957</td>\n",
       "      <td>-80995.00</td>\n",
       "      <td>-2.00</td>\n",
       "      <td>1.00</td>\n",
       "      <td>1.00</td>\n",
       "      <td>1.00</td>\n",
       "      <td>3.00</td>\n",
       "      <td>10.00</td>\n",
       "      <td>24.00</td>\n",
       "      <td>29.00</td>\n",
       "      <td>100.0</td>\n",
       "      <td>80995.0</td>\n",
       "    </tr>\n",
       "    <tr>\n",
       "      <th>Price</th>\n",
       "      <td>541910.0</td>\n",
       "      <td>4.611138</td>\n",
       "      <td>96.759765</td>\n",
       "      <td>-11062.06</td>\n",
       "      <td>0.19</td>\n",
       "      <td>0.42</td>\n",
       "      <td>0.63</td>\n",
       "      <td>1.25</td>\n",
       "      <td>2.08</td>\n",
       "      <td>4.13</td>\n",
       "      <td>7.95</td>\n",
       "      <td>9.95</td>\n",
       "      <td>18.0</td>\n",
       "      <td>38970.0</td>\n",
       "    </tr>\n",
       "    <tr>\n",
       "      <th>Customer ID</th>\n",
       "      <td>406830.0</td>\n",
       "      <td>15287.684160</td>\n",
       "      <td>1713.603074</td>\n",
       "      <td>12346.00</td>\n",
       "      <td>12415.00</td>\n",
       "      <td>12626.00</td>\n",
       "      <td>12876.00</td>\n",
       "      <td>13953.00</td>\n",
       "      <td>15152.00</td>\n",
       "      <td>16791.00</td>\n",
       "      <td>17719.00</td>\n",
       "      <td>17905.00</td>\n",
       "      <td>18212.0</td>\n",
       "      <td>18287.0</td>\n",
       "    </tr>\n",
       "  </tbody>\n",
       "</table>\n",
       "</div>"
      ],
      "text/plain": [
       "                count          mean          std       min        1%  \\\n",
       "Quantity     541910.0      9.552234   218.080957 -80995.00     -2.00   \n",
       "Price        541910.0      4.611138    96.759765 -11062.06      0.19   \n",
       "Customer ID  406830.0  15287.684160  1713.603074  12346.00  12415.00   \n",
       "\n",
       "                   5%       10%       25%       50%       75%       90%  \\\n",
       "Quantity         1.00      1.00      1.00      3.00     10.00     24.00   \n",
       "Price            0.42      0.63      1.25      2.08      4.13      7.95   \n",
       "Customer ID  12626.00  12876.00  13953.00  15152.00  16791.00  17719.00   \n",
       "\n",
       "                  95%      99%      max  \n",
       "Quantity        29.00    100.0  80995.0  \n",
       "Price            9.95     18.0  38970.0  \n",
       "Customer ID  17905.00  18212.0  18287.0  "
      ]
     },
     "execution_count": 7,
     "metadata": {},
     "output_type": "execute_result"
    }
   ],
   "source": [
    "df.describe([0.01, 0.05, 0.10, 0.25, 0.50, 0.75, 0.90, 0.95, 0.99]).T"
   ]
  },
  {
   "cell_type": "markdown",
   "metadata": {},
   "source": [
    "##### In this data set as can be seen Customer ID and Invoice variables are consist of dublicated records\n",
    "##### This means a customer can have more than one invoice and an invoice can have more than one items"
   ]
  },
  {
   "cell_type": "markdown",
   "metadata": {},
   "source": [
    "##### There are some Null values lets get rid of them"
   ]
  },
  {
   "cell_type": "code",
   "execution_count": 136,
   "metadata": {},
   "outputs": [],
   "source": [
    "df.dropna(axis=0, inplace=True)\n"
   ]
  },
  {
   "cell_type": "markdown",
   "metadata": {},
   "source": [
    "##### As mentioned in data source there are some cancelled Invoices in the data set.\n",
    "##### Cancelled invoices are represented with a capital \"C\" in the Invoice variable.\n",
    "##### We need to get rid of them too."
   ]
  },
  {
   "cell_type": "code",
   "execution_count": 137,
   "metadata": {},
   "outputs": [],
   "source": [
    "df = df[~df[\"Invoice\"].str.contains(\"C\", na=False)]"
   ]
  },
  {
   "cell_type": "markdown",
   "metadata": {},
   "source": [
    "##### If we look at varience of Quantity and Price variables we can see that the max values are rediculusly high.\n",
    "##### Lets pressure them down with the following functions"
   ]
  },
  {
   "cell_type": "code",
   "execution_count": 66,
   "metadata": {},
   "outputs": [],
   "source": [
    "def outlier_thresholds(dataframe, variable):\n",
    "    quartile1 = dataframe[variable].quantile(0.01)\n",
    "    quartile3 = dataframe[variable].quantile(0.99)\n",
    "    interquantile_range = quartile3 - quartile1\n",
    "    up_limit = quartile3 + 1.5 * interquantile_range\n",
    "    return up_limit\n",
    "\n",
    "\n",
    "def replace_with_thresholds(dataframe, variable):\n",
    "    up_limit = outlier_thresholds(dataframe, variable)\n",
    "    dataframe.loc[(dataframe[variable] > up_limit), variable] = up_limit\n",
    "    \n",
    "replace_with_thresholds(df, \"Quantity\")\n",
    "replace_with_thresholds(df, \"Price\")"
   ]
  },
  {
   "cell_type": "markdown",
   "metadata": {},
   "source": [
    "##### Lets check again"
   ]
  },
  {
   "cell_type": "code",
   "execution_count": 11,
   "metadata": {},
   "outputs": [
    {
     "data": {
      "text/html": [
       "<div>\n",
       "<style scoped>\n",
       "    .dataframe tbody tr th:only-of-type {\n",
       "        vertical-align: middle;\n",
       "    }\n",
       "\n",
       "    .dataframe tbody tr th {\n",
       "        vertical-align: top;\n",
       "    }\n",
       "\n",
       "    .dataframe thead th {\n",
       "        text-align: right;\n",
       "    }\n",
       "</style>\n",
       "<table border=\"1\" class=\"dataframe\">\n",
       "  <thead>\n",
       "    <tr style=\"text-align: right;\">\n",
       "      <th></th>\n",
       "      <th>count</th>\n",
       "      <th>mean</th>\n",
       "      <th>std</th>\n",
       "      <th>min</th>\n",
       "      <th>1%</th>\n",
       "      <th>5%</th>\n",
       "      <th>10%</th>\n",
       "      <th>25%</th>\n",
       "      <th>50%</th>\n",
       "      <th>75%</th>\n",
       "      <th>90%</th>\n",
       "      <th>95%</th>\n",
       "      <th>99%</th>\n",
       "      <th>max</th>\n",
       "    </tr>\n",
       "  </thead>\n",
       "  <tbody>\n",
       "    <tr>\n",
       "      <th>Quantity</th>\n",
       "      <td>397925.0</td>\n",
       "      <td>11.833709</td>\n",
       "      <td>25.534486</td>\n",
       "      <td>1.0</td>\n",
       "      <td>1.00</td>\n",
       "      <td>1.00</td>\n",
       "      <td>1.00</td>\n",
       "      <td>2.00</td>\n",
       "      <td>6.00</td>\n",
       "      <td>12.00</td>\n",
       "      <td>24.00</td>\n",
       "      <td>36.0</td>\n",
       "      <td>120.00</td>\n",
       "      <td>298.50</td>\n",
       "    </tr>\n",
       "    <tr>\n",
       "      <th>Price</th>\n",
       "      <td>397925.0</td>\n",
       "      <td>2.893201</td>\n",
       "      <td>3.227143</td>\n",
       "      <td>0.0</td>\n",
       "      <td>0.21</td>\n",
       "      <td>0.42</td>\n",
       "      <td>0.55</td>\n",
       "      <td>1.25</td>\n",
       "      <td>1.95</td>\n",
       "      <td>3.75</td>\n",
       "      <td>6.35</td>\n",
       "      <td>8.5</td>\n",
       "      <td>14.95</td>\n",
       "      <td>37.06</td>\n",
       "    </tr>\n",
       "    <tr>\n",
       "      <th>Customer ID</th>\n",
       "      <td>397925.0</td>\n",
       "      <td>15294.308601</td>\n",
       "      <td>1713.172738</td>\n",
       "      <td>12346.0</td>\n",
       "      <td>12415.00</td>\n",
       "      <td>12627.00</td>\n",
       "      <td>12883.00</td>\n",
       "      <td>13969.00</td>\n",
       "      <td>15159.00</td>\n",
       "      <td>16795.00</td>\n",
       "      <td>17725.00</td>\n",
       "      <td>17912.0</td>\n",
       "      <td>18211.00</td>\n",
       "      <td>18287.00</td>\n",
       "    </tr>\n",
       "  </tbody>\n",
       "</table>\n",
       "</div>"
      ],
      "text/plain": [
       "                count          mean          std      min        1%        5%  \\\n",
       "Quantity     397925.0     11.833709    25.534486      1.0      1.00      1.00   \n",
       "Price        397925.0      2.893201     3.227143      0.0      0.21      0.42   \n",
       "Customer ID  397925.0  15294.308601  1713.172738  12346.0  12415.00  12627.00   \n",
       "\n",
       "                  10%       25%       50%       75%       90%      95%  \\\n",
       "Quantity         1.00      2.00      6.00     12.00     24.00     36.0   \n",
       "Price            0.55      1.25      1.95      3.75      6.35      8.5   \n",
       "Customer ID  12883.00  13969.00  15159.00  16795.00  17725.00  17912.0   \n",
       "\n",
       "                  99%       max  \n",
       "Quantity       120.00    298.50  \n",
       "Price           14.95     37.06  \n",
       "Customer ID  18211.00  18287.00  "
      ]
     },
     "execution_count": 11,
     "metadata": {},
     "output_type": "execute_result"
    }
   ],
   "source": [
    "df.describe([0.01, 0.05, 0.10, 0.25, 0.50, 0.75, 0.90, 0.95, 0.99]).T"
   ]
  },
  {
   "cell_type": "markdown",
   "metadata": {},
   "source": [
    "##### Looks great\n",
    "##### Lets create a variable called \"Total Price\" by multiplying Price and Quantity variables to calculate the amount paid in total"
   ]
  },
  {
   "cell_type": "code",
   "execution_count": 138,
   "metadata": {},
   "outputs": [],
   "source": [
    "df[\"TotalPrice\"] = df[\"Quantity\"] * df[\"Price\"]"
   ]
  },
  {
   "cell_type": "markdown",
   "metadata": {},
   "source": [
    "   "
   ]
  },
  {
   "cell_type": "markdown",
   "metadata": {},
   "source": [
    "### Calculating Customer Life Time Values (CLTV)"
   ]
  },
  {
   "cell_type": "markdown",
   "metadata": {},
   "source": [
    "##### As we are going to make a segment based recommendation system, we need to create segments first.\n",
    "##### We will create segments according to customers CLTV score wich means we need to calculate CLTV scores for starters\n",
    "##### To do that we need to have recency, frequency, monetary variables\n",
    "##### recency: means how many days have passed since customers last purches\n",
    "##### frequency: means how many purches a customer had until today\n",
    "##### monetary: means how much money spent by a customer until today\n",
    "##### T: means how many days have passed since customers first purches (Customer's Age)\n",
    "##### Lets create them"
   ]
  },
  {
   "cell_type": "markdown",
   "metadata": {},
   "source": [
    "##### But what is today? We need to define a \"today\" first :)"
   ]
  },
  {
   "cell_type": "code",
   "execution_count": 68,
   "metadata": {},
   "outputs": [
    {
     "data": {
      "text/plain": [
       "Timestamp('2011-12-09 12:50:00')"
      ]
     },
     "execution_count": 68,
     "metadata": {},
     "output_type": "execute_result"
    }
   ],
   "source": [
    "df[\"InvoiceDate\"].max()"
   ]
  },
  {
   "cell_type": "code",
   "execution_count": 153,
   "metadata": {},
   "outputs": [],
   "source": [
    "today_date = dt.datetime(2011, 12, 11)"
   ]
  },
  {
   "cell_type": "markdown",
   "metadata": {},
   "source": [
    "##### We need to take a look at max value in \"InvoiceDate\" variable and chose a date later than the maximum value \n",
    "##### so that we dont get negative values in recency variable we will create in a bit\n",
    "##### thats why we chose df[\"InvoiceDate\"].max() + 2 days"
   ]
  },
  {
   "cell_type": "markdown",
   "metadata": {},
   "source": [
    "##### Now we can create rfm table"
   ]
  },
  {
   "cell_type": "code",
   "execution_count": 154,
   "metadata": {},
   "outputs": [],
   "source": [
    "rfm = df.groupby('Customer ID').agg({'InvoiceDate': [lambda date: (date.max()-date.min()).days,\n",
    "                                                    lambda date: (today_date - date.min()).days],\n",
    "                                                'Invoice': lambda num: num.nunique(),\n",
    "                                                'TotalPrice': lambda TotalPrice: TotalPrice.sum()})\n",
    "\n",
    "rfm.columns = ['recency_cltv_p', 'T', 'frequency', 'monetary']"
   ]
  },
  {
   "cell_type": "markdown",
   "metadata": {
    "jupyter": {
     "outputs_hidden": true
    }
   },
   "source": [
    "##### Lets see our rfm table loks like"
   ]
  },
  {
   "cell_type": "code",
   "execution_count": 155,
   "metadata": {},
   "outputs": [
    {
     "data": {
      "text/html": [
       "<div>\n",
       "<style scoped>\n",
       "    .dataframe tbody tr th:only-of-type {\n",
       "        vertical-align: middle;\n",
       "    }\n",
       "\n",
       "    .dataframe tbody tr th {\n",
       "        vertical-align: top;\n",
       "    }\n",
       "\n",
       "    .dataframe thead th {\n",
       "        text-align: right;\n",
       "    }\n",
       "</style>\n",
       "<table border=\"1\" class=\"dataframe\">\n",
       "  <thead>\n",
       "    <tr style=\"text-align: right;\">\n",
       "      <th></th>\n",
       "      <th>recency_cltv_p</th>\n",
       "      <th>T</th>\n",
       "      <th>frequency</th>\n",
       "      <th>monetary</th>\n",
       "    </tr>\n",
       "    <tr>\n",
       "      <th>Customer ID</th>\n",
       "      <th></th>\n",
       "      <th></th>\n",
       "      <th></th>\n",
       "      <th></th>\n",
       "    </tr>\n",
       "  </thead>\n",
       "  <tbody>\n",
       "    <tr>\n",
       "      <th>12346.0</th>\n",
       "      <td>0</td>\n",
       "      <td>326</td>\n",
       "      <td>1</td>\n",
       "      <td>77183.60</td>\n",
       "    </tr>\n",
       "    <tr>\n",
       "      <th>12347.0</th>\n",
       "      <td>365</td>\n",
       "      <td>368</td>\n",
       "      <td>7</td>\n",
       "      <td>4310.00</td>\n",
       "    </tr>\n",
       "    <tr>\n",
       "      <th>12348.0</th>\n",
       "      <td>282</td>\n",
       "      <td>359</td>\n",
       "      <td>4</td>\n",
       "      <td>1797.24</td>\n",
       "    </tr>\n",
       "    <tr>\n",
       "      <th>12349.0</th>\n",
       "      <td>0</td>\n",
       "      <td>19</td>\n",
       "      <td>1</td>\n",
       "      <td>1757.55</td>\n",
       "    </tr>\n",
       "    <tr>\n",
       "      <th>12350.0</th>\n",
       "      <td>0</td>\n",
       "      <td>311</td>\n",
       "      <td>1</td>\n",
       "      <td>334.40</td>\n",
       "    </tr>\n",
       "  </tbody>\n",
       "</table>\n",
       "</div>"
      ],
      "text/plain": [
       "             recency_cltv_p    T  frequency  monetary\n",
       "Customer ID                                          \n",
       "12346.0                   0  326          1  77183.60\n",
       "12347.0                 365  368          7   4310.00\n",
       "12348.0                 282  359          4   1797.24\n",
       "12349.0                   0   19          1   1757.55\n",
       "12350.0                   0  311          1    334.40"
      ]
     },
     "execution_count": 155,
     "metadata": {},
     "output_type": "execute_result"
    }
   ],
   "source": [
    "rfm.head()"
   ]
  },
  {
   "cell_type": "code",
   "execution_count": 156,
   "metadata": {},
   "outputs": [
    {
     "data": {
      "text/html": [
       "<div>\n",
       "<style scoped>\n",
       "    .dataframe tbody tr th:only-of-type {\n",
       "        vertical-align: middle;\n",
       "    }\n",
       "\n",
       "    .dataframe tbody tr th {\n",
       "        vertical-align: top;\n",
       "    }\n",
       "\n",
       "    .dataframe thead th {\n",
       "        text-align: right;\n",
       "    }\n",
       "</style>\n",
       "<table border=\"1\" class=\"dataframe\">\n",
       "  <thead>\n",
       "    <tr style=\"text-align: right;\">\n",
       "      <th></th>\n",
       "      <th>count</th>\n",
       "      <th>mean</th>\n",
       "      <th>std</th>\n",
       "      <th>min</th>\n",
       "      <th>1%</th>\n",
       "      <th>5%</th>\n",
       "      <th>10%</th>\n",
       "      <th>25%</th>\n",
       "      <th>50%</th>\n",
       "      <th>75%</th>\n",
       "      <th>90%</th>\n",
       "      <th>95%</th>\n",
       "      <th>99%</th>\n",
       "      <th>max</th>\n",
       "    </tr>\n",
       "  </thead>\n",
       "  <tbody>\n",
       "    <tr>\n",
       "      <th>recency_cltv_p</th>\n",
       "      <td>4339.0</td>\n",
       "      <td>130.418530</td>\n",
       "      <td>132.039186</td>\n",
       "      <td>0.0</td>\n",
       "      <td>0.000</td>\n",
       "      <td>0.000</td>\n",
       "      <td>0.000</td>\n",
       "      <td>0.000</td>\n",
       "      <td>92.00</td>\n",
       "      <td>251.50</td>\n",
       "      <td>339.000</td>\n",
       "      <td>356.000</td>\n",
       "      <td>367.0000</td>\n",
       "      <td>373.00</td>\n",
       "    </tr>\n",
       "    <tr>\n",
       "      <th>T</th>\n",
       "      <td>4339.0</td>\n",
       "      <td>223.782899</td>\n",
       "      <td>117.883623</td>\n",
       "      <td>1.0</td>\n",
       "      <td>10.000</td>\n",
       "      <td>26.000</td>\n",
       "      <td>46.000</td>\n",
       "      <td>113.000</td>\n",
       "      <td>249.00</td>\n",
       "      <td>327.00</td>\n",
       "      <td>367.000</td>\n",
       "      <td>372.000</td>\n",
       "      <td>374.0000</td>\n",
       "      <td>374.00</td>\n",
       "    </tr>\n",
       "    <tr>\n",
       "      <th>frequency</th>\n",
       "      <td>4339.0</td>\n",
       "      <td>4.271952</td>\n",
       "      <td>7.705493</td>\n",
       "      <td>1.0</td>\n",
       "      <td>1.000</td>\n",
       "      <td>1.000</td>\n",
       "      <td>1.000</td>\n",
       "      <td>1.000</td>\n",
       "      <td>2.00</td>\n",
       "      <td>5.00</td>\n",
       "      <td>9.000</td>\n",
       "      <td>13.000</td>\n",
       "      <td>30.0000</td>\n",
       "      <td>210.00</td>\n",
       "    </tr>\n",
       "    <tr>\n",
       "      <th>monetary</th>\n",
       "      <td>4339.0</td>\n",
       "      <td>2053.797166</td>\n",
       "      <td>8988.247836</td>\n",
       "      <td>0.0</td>\n",
       "      <td>52.076</td>\n",
       "      <td>112.245</td>\n",
       "      <td>156.566</td>\n",
       "      <td>307.245</td>\n",
       "      <td>674.45</td>\n",
       "      <td>1661.64</td>\n",
       "      <td>3646.164</td>\n",
       "      <td>5840.182</td>\n",
       "      <td>19880.0918</td>\n",
       "      <td>280206.02</td>\n",
       "    </tr>\n",
       "  </tbody>\n",
       "</table>\n",
       "</div>"
      ],
      "text/plain": [
       "                 count         mean          std  min      1%       5%  \\\n",
       "recency_cltv_p  4339.0   130.418530   132.039186  0.0   0.000    0.000   \n",
       "T               4339.0   223.782899   117.883623  1.0  10.000   26.000   \n",
       "frequency       4339.0     4.271952     7.705493  1.0   1.000    1.000   \n",
       "monetary        4339.0  2053.797166  8988.247836  0.0  52.076  112.245   \n",
       "\n",
       "                    10%      25%     50%      75%       90%       95%  \\\n",
       "recency_cltv_p    0.000    0.000   92.00   251.50   339.000   356.000   \n",
       "T                46.000  113.000  249.00   327.00   367.000   372.000   \n",
       "frequency         1.000    1.000    2.00     5.00     9.000    13.000   \n",
       "monetary        156.566  307.245  674.45  1661.64  3646.164  5840.182   \n",
       "\n",
       "                       99%        max  \n",
       "recency_cltv_p    367.0000     373.00  \n",
       "T                 374.0000     374.00  \n",
       "frequency          30.0000     210.00  \n",
       "monetary        19880.0918  280206.02  "
      ]
     },
     "execution_count": 156,
     "metadata": {},
     "output_type": "execute_result"
    }
   ],
   "source": [
    "rfm.describe([0.01, 0.05, 0.10, 0.25, 0.50, 0.75, 0.90, 0.95, 0.99]).T"
   ]
  },
  {
   "cell_type": "markdown",
   "metadata": {},
   "source": [
    "##### As can be seen there are customers with \"0\" monetary which is weird because they got invoices but the amount is \"0\"\n",
    "##### Lets get rid of them\n",
    "##### Also to calculate a life time value we better select customers which has more than one purcheses\n",
    "##### Lets do that too "
   ]
  },
  {
   "cell_type": "code",
   "execution_count": 157,
   "metadata": {},
   "outputs": [],
   "source": [
    "rfm = rfm[rfm[\"monetary\"] > 0]\n",
    "\n",
    "rfm = rfm[(rfm['frequency'] > 1)]"
   ]
  },
  {
   "cell_type": "markdown",
   "metadata": {},
   "source": [
    "##### Now lets change \"monetary\" variable into \"avg_monetary\" by diveding \"frequency\" variable to calculate avarage monetary value per purches"
   ]
  },
  {
   "cell_type": "code",
   "execution_count": 158,
   "metadata": {},
   "outputs": [],
   "source": [
    "rfm[\"monetary\"] = rfm[\"monetary\"] / rfm[\"frequency\"]\n",
    "\n",
    "rfm.rename(columns={\"monetary\": \"monetary_avg\"}, inplace=True)"
   ]
  },
  {
   "cell_type": "markdown",
   "metadata": {},
   "source": [
    "##### Lets check again if it all worked out"
   ]
  },
  {
   "cell_type": "code",
   "execution_count": 159,
   "metadata": {},
   "outputs": [
    {
     "data": {
      "text/html": [
       "<div>\n",
       "<style scoped>\n",
       "    .dataframe tbody tr th:only-of-type {\n",
       "        vertical-align: middle;\n",
       "    }\n",
       "\n",
       "    .dataframe tbody tr th {\n",
       "        vertical-align: top;\n",
       "    }\n",
       "\n",
       "    .dataframe thead th {\n",
       "        text-align: right;\n",
       "    }\n",
       "</style>\n",
       "<table border=\"1\" class=\"dataframe\">\n",
       "  <thead>\n",
       "    <tr style=\"text-align: right;\">\n",
       "      <th></th>\n",
       "      <th>recency_cltv_p</th>\n",
       "      <th>T</th>\n",
       "      <th>frequency</th>\n",
       "      <th>monetary_avg</th>\n",
       "    </tr>\n",
       "    <tr>\n",
       "      <th>Customer ID</th>\n",
       "      <th></th>\n",
       "      <th></th>\n",
       "      <th></th>\n",
       "      <th></th>\n",
       "    </tr>\n",
       "  </thead>\n",
       "  <tbody>\n",
       "    <tr>\n",
       "      <th>12347.0</th>\n",
       "      <td>365</td>\n",
       "      <td>368</td>\n",
       "      <td>7</td>\n",
       "      <td>615.714286</td>\n",
       "    </tr>\n",
       "    <tr>\n",
       "      <th>12348.0</th>\n",
       "      <td>282</td>\n",
       "      <td>359</td>\n",
       "      <td>4</td>\n",
       "      <td>449.310000</td>\n",
       "    </tr>\n",
       "    <tr>\n",
       "      <th>12352.0</th>\n",
       "      <td>260</td>\n",
       "      <td>297</td>\n",
       "      <td>8</td>\n",
       "      <td>313.255000</td>\n",
       "    </tr>\n",
       "    <tr>\n",
       "      <th>12356.0</th>\n",
       "      <td>302</td>\n",
       "      <td>326</td>\n",
       "      <td>3</td>\n",
       "      <td>937.143333</td>\n",
       "    </tr>\n",
       "    <tr>\n",
       "      <th>12358.0</th>\n",
       "      <td>149</td>\n",
       "      <td>151</td>\n",
       "      <td>2</td>\n",
       "      <td>584.030000</td>\n",
       "    </tr>\n",
       "  </tbody>\n",
       "</table>\n",
       "</div>"
      ],
      "text/plain": [
       "             recency_cltv_p    T  frequency  monetary_avg\n",
       "Customer ID                                              \n",
       "12347.0                 365  368          7    615.714286\n",
       "12348.0                 282  359          4    449.310000\n",
       "12352.0                 260  297          8    313.255000\n",
       "12356.0                 302  326          3    937.143333\n",
       "12358.0                 149  151          2    584.030000"
      ]
     },
     "execution_count": 159,
     "metadata": {},
     "output_type": "execute_result"
    }
   ],
   "source": [
    "rfm.head()"
   ]
  },
  {
   "cell_type": "code",
   "execution_count": 160,
   "metadata": {},
   "outputs": [
    {
     "data": {
      "text/html": [
       "<div>\n",
       "<style scoped>\n",
       "    .dataframe tbody tr th:only-of-type {\n",
       "        vertical-align: middle;\n",
       "    }\n",
       "\n",
       "    .dataframe tbody tr th {\n",
       "        vertical-align: top;\n",
       "    }\n",
       "\n",
       "    .dataframe thead th {\n",
       "        text-align: right;\n",
       "    }\n",
       "</style>\n",
       "<table border=\"1\" class=\"dataframe\">\n",
       "  <thead>\n",
       "    <tr style=\"text-align: right;\">\n",
       "      <th></th>\n",
       "      <th>count</th>\n",
       "      <th>mean</th>\n",
       "      <th>std</th>\n",
       "      <th>min</th>\n",
       "      <th>1%</th>\n",
       "      <th>5%</th>\n",
       "      <th>10%</th>\n",
       "      <th>25%</th>\n",
       "      <th>50%</th>\n",
       "      <th>75%</th>\n",
       "      <th>90%</th>\n",
       "      <th>95%</th>\n",
       "      <th>99%</th>\n",
       "      <th>max</th>\n",
       "    </tr>\n",
       "  </thead>\n",
       "  <tbody>\n",
       "    <tr>\n",
       "      <th>recency_cltv_p</th>\n",
       "      <td>2845.0</td>\n",
       "      <td>198.905448</td>\n",
       "      <td>113.866961</td>\n",
       "      <td>0.00</td>\n",
       "      <td>0.0000</td>\n",
       "      <td>16.0000</td>\n",
       "      <td>35.000</td>\n",
       "      <td>98.0000</td>\n",
       "      <td>207.000000</td>\n",
       "      <td>299.000</td>\n",
       "      <td>352.000000</td>\n",
       "      <td>361.800</td>\n",
       "      <td>369.000000</td>\n",
       "      <td>373.00</td>\n",
       "    </tr>\n",
       "    <tr>\n",
       "      <th>T</th>\n",
       "      <td>2845.0</td>\n",
       "      <td>258.784183</td>\n",
       "      <td>102.990922</td>\n",
       "      <td>3.00</td>\n",
       "      <td>23.4400</td>\n",
       "      <td>55.0000</td>\n",
       "      <td>85.000</td>\n",
       "      <td>192.0000</td>\n",
       "      <td>283.000000</td>\n",
       "      <td>359.000</td>\n",
       "      <td>369.000000</td>\n",
       "      <td>373.000</td>\n",
       "      <td>374.000000</td>\n",
       "      <td>374.00</td>\n",
       "    </tr>\n",
       "    <tr>\n",
       "      <th>frequency</th>\n",
       "      <td>2845.0</td>\n",
       "      <td>5.990158</td>\n",
       "      <td>9.054720</td>\n",
       "      <td>2.00</td>\n",
       "      <td>2.0000</td>\n",
       "      <td>2.0000</td>\n",
       "      <td>2.000</td>\n",
       "      <td>2.0000</td>\n",
       "      <td>4.000000</td>\n",
       "      <td>6.000</td>\n",
       "      <td>11.600000</td>\n",
       "      <td>17.000</td>\n",
       "      <td>37.000000</td>\n",
       "      <td>210.00</td>\n",
       "    </tr>\n",
       "    <tr>\n",
       "      <th>monetary_avg</th>\n",
       "      <td>2845.0</td>\n",
       "      <td>422.474779</td>\n",
       "      <td>1658.556123</td>\n",
       "      <td>3.45</td>\n",
       "      <td>56.3585</td>\n",
       "      <td>105.1604</td>\n",
       "      <td>134.333</td>\n",
       "      <td>193.4975</td>\n",
       "      <td>303.716667</td>\n",
       "      <td>441.575</td>\n",
       "      <td>667.472806</td>\n",
       "      <td>929.592</td>\n",
       "      <td>1976.370571</td>\n",
       "      <td>84236.25</td>\n",
       "    </tr>\n",
       "  </tbody>\n",
       "</table>\n",
       "</div>"
      ],
      "text/plain": [
       "                 count        mean          std   min       1%        5%  \\\n",
       "recency_cltv_p  2845.0  198.905448   113.866961  0.00   0.0000   16.0000   \n",
       "T               2845.0  258.784183   102.990922  3.00  23.4400   55.0000   \n",
       "frequency       2845.0    5.990158     9.054720  2.00   2.0000    2.0000   \n",
       "monetary_avg    2845.0  422.474779  1658.556123  3.45  56.3585  105.1604   \n",
       "\n",
       "                    10%       25%         50%      75%         90%      95%  \\\n",
       "recency_cltv_p   35.000   98.0000  207.000000  299.000  352.000000  361.800   \n",
       "T                85.000  192.0000  283.000000  359.000  369.000000  373.000   \n",
       "frequency         2.000    2.0000    4.000000    6.000   11.600000   17.000   \n",
       "monetary_avg    134.333  193.4975  303.716667  441.575  667.472806  929.592   \n",
       "\n",
       "                        99%       max  \n",
       "recency_cltv_p   369.000000    373.00  \n",
       "T                374.000000    374.00  \n",
       "frequency         37.000000    210.00  \n",
       "monetary_avg    1976.370571  84236.25  "
      ]
     },
     "execution_count": 160,
     "metadata": {},
     "output_type": "execute_result"
    }
   ],
   "source": [
    "rfm.describe([0.01, 0.05, 0.10, 0.25, 0.50, 0.75, 0.90, 0.95, 0.99]).T"
   ]
  },
  {
   "cell_type": "markdown",
   "metadata": {},
   "source": [
    "##### Everything looks allright"
   ]
  },
  {
   "cell_type": "markdown",
   "metadata": {
    "jupyter": {
     "outputs_hidden": true
    }
   },
   "source": [
    "##### To calculate cltv we will use BGNBD Model and Gama Gama Model. In order to use this model we neet to change our \"Recency\" and \"T\"(Customer Age) variables into weeks"
   ]
  },
  {
   "cell_type": "code",
   "execution_count": 161,
   "metadata": {},
   "outputs": [],
   "source": [
    "rfm[\"recency_weekly_cltv_p\"] = rfm[\"recency_cltv_p\"] / 7\n",
    "rfm[\"T_weekly\"] = rfm[\"T\"] / 7"
   ]
  },
  {
   "cell_type": "markdown",
   "metadata": {},
   "source": [
    "##### Now we are good to go for building BGNBD Model"
   ]
  },
  {
   "cell_type": "code",
   "execution_count": 162,
   "metadata": {},
   "outputs": [
    {
     "data": {
      "text/plain": [
       "<lifetimes.BetaGeoFitter: fitted with 2845 subjects, a: 0.06, alpha: 9.30, b: 1.13, r: 1.78>"
      ]
     },
     "execution_count": 162,
     "metadata": {},
     "output_type": "execute_result"
    }
   ],
   "source": [
    "bgf = BetaGeoFitter(penalizer_coef=0.01)\n",
    "bgf.fit(rfm['frequency'],\n",
    "        rfm['recency_weekly_cltv_p'],\n",
    "        rfm['T_weekly'])"
   ]
  },
  {
   "cell_type": "markdown",
   "metadata": {},
   "source": [
    "##### With this model we are able to calculate expected purchases of every single customer in the data set. \n",
    "##### Also if we sum up all these purchases we can get the expected revenue of the company"
   ]
  },
  {
   "cell_type": "code",
   "execution_count": 163,
   "metadata": {},
   "outputs": [],
   "source": [
    "# exp_sales_1_month\n",
    "rfm[\"exp_sales_1_month\"] = bgf.predict(4, # <= The time period can be changed here (remember that our time period is in weeks)\n",
    "                                       rfm['frequency'],\n",
    "                                       rfm['recency_weekly_cltv_p'],\n",
    "                                       rfm['T_weekly'])\n",
    "# exp_sales_3_month\n",
    "rfm[\"exp_sales_3_month\"] = bgf.predict(12, # <= The time period can be changed here\n",
    "                                       rfm['frequency'],\n",
    "                                       rfm['recency_weekly_cltv_p'],\n",
    "                                       rfm['T_weekly'])\n",
    "#Note: Here we are not calculating how much money will be spent. We are calculating how many purcheses one customer is likely to make"
   ]
  },
  {
   "cell_type": "markdown",
   "metadata": {},
   "source": [
    "##### Now we will use Gama Gama model to calculate the expected average profit per customer"
   ]
  },
  {
   "cell_type": "code",
   "execution_count": 164,
   "metadata": {},
   "outputs": [],
   "source": [
    "# expected_average_profit\n",
    "ggf = GammaGammaFitter(penalizer_coef=0.01)\n",
    "ggf.fit(rfm['frequency'], rfm['monetary_avg'])\n",
    "rfm[\"expected_average_profit\"] = ggf.conditional_expected_average_profit(rfm['frequency'],\n",
    "                                                                         rfm['monetary_avg'])"
   ]
  },
  {
   "cell_type": "markdown",
   "metadata": {},
   "source": [
    "##### By combining bgf(BGNBD Model) and ggf(Gama Gama Model) we can calculate CLTV for different time periods"
   ]
  },
  {
   "cell_type": "code",
   "execution_count": 165,
   "metadata": {},
   "outputs": [],
   "source": [
    "cltv = ggf.customer_lifetime_value(bgf,\n",
    "                                   rfm['frequency'],\n",
    "                                   rfm['recency_weekly_cltv_p'],\n",
    "                                   rfm['T_weekly'],\n",
    "                                   rfm['monetary_avg'],\n",
    "                                   time=6,   # Here is where we decleare the time period(months) that CLTV will be calculated\n",
    "                                   freq=\"W\", # Here is where we inform our model that in our data the time period is in weeks(w)\n",
    "                                   discount_rate=0.01) \n",
    "\n",
    "rfm[\"cltv_p\"] = cltv"
   ]
  },
  {
   "cell_type": "markdown",
   "metadata": {},
   "source": [
    "##### Lets check again if it all worked out"
   ]
  },
  {
   "cell_type": "code",
   "execution_count": 166,
   "metadata": {},
   "outputs": [
    {
     "data": {
      "text/html": [
       "<div>\n",
       "<style scoped>\n",
       "    .dataframe tbody tr th:only-of-type {\n",
       "        vertical-align: middle;\n",
       "    }\n",
       "\n",
       "    .dataframe tbody tr th {\n",
       "        vertical-align: top;\n",
       "    }\n",
       "\n",
       "    .dataframe thead th {\n",
       "        text-align: right;\n",
       "    }\n",
       "</style>\n",
       "<table border=\"1\" class=\"dataframe\">\n",
       "  <thead>\n",
       "    <tr style=\"text-align: right;\">\n",
       "      <th></th>\n",
       "      <th>recency_cltv_p</th>\n",
       "      <th>T</th>\n",
       "      <th>frequency</th>\n",
       "      <th>monetary_avg</th>\n",
       "      <th>recency_weekly_cltv_p</th>\n",
       "      <th>T_weekly</th>\n",
       "      <th>exp_sales_1_month</th>\n",
       "      <th>exp_sales_3_month</th>\n",
       "      <th>expected_average_profit</th>\n",
       "      <th>cltv_p</th>\n",
       "    </tr>\n",
       "    <tr>\n",
       "      <th>Customer ID</th>\n",
       "      <th></th>\n",
       "      <th></th>\n",
       "      <th></th>\n",
       "      <th></th>\n",
       "      <th></th>\n",
       "      <th></th>\n",
       "      <th></th>\n",
       "      <th></th>\n",
       "      <th></th>\n",
       "      <th></th>\n",
       "    </tr>\n",
       "  </thead>\n",
       "  <tbody>\n",
       "    <tr>\n",
       "      <th>12347.0</th>\n",
       "      <td>365</td>\n",
       "      <td>368</td>\n",
       "      <td>7</td>\n",
       "      <td>615.714286</td>\n",
       "      <td>52.142857</td>\n",
       "      <td>52.571429</td>\n",
       "      <td>0.561684</td>\n",
       "      <td>1.678069</td>\n",
       "      <td>632.019673</td>\n",
       "      <td>2211.388315</td>\n",
       "    </tr>\n",
       "    <tr>\n",
       "      <th>12348.0</th>\n",
       "      <td>282</td>\n",
       "      <td>359</td>\n",
       "      <td>4</td>\n",
       "      <td>449.310000</td>\n",
       "      <td>40.285714</td>\n",
       "      <td>51.285714</td>\n",
       "      <td>0.364322</td>\n",
       "      <td>1.087951</td>\n",
       "      <td>470.803034</td>\n",
       "      <td>1067.340288</td>\n",
       "    </tr>\n",
       "    <tr>\n",
       "      <th>12352.0</th>\n",
       "      <td>260</td>\n",
       "      <td>297</td>\n",
       "      <td>8</td>\n",
       "      <td>313.255000</td>\n",
       "      <td>37.142857</td>\n",
       "      <td>42.428571</td>\n",
       "      <td>0.739160</td>\n",
       "      <td>2.206857</td>\n",
       "      <td>320.724048</td>\n",
       "      <td>1474.515713</td>\n",
       "    </tr>\n",
       "    <tr>\n",
       "      <th>12356.0</th>\n",
       "      <td>302</td>\n",
       "      <td>326</td>\n",
       "      <td>3</td>\n",
       "      <td>937.143333</td>\n",
       "      <td>43.142857</td>\n",
       "      <td>46.571429</td>\n",
       "      <td>0.333040</td>\n",
       "      <td>0.993934</td>\n",
       "      <td>996.409652</td>\n",
       "      <td>2062.033986</td>\n",
       "    </tr>\n",
       "    <tr>\n",
       "      <th>12358.0</th>\n",
       "      <td>149</td>\n",
       "      <td>151</td>\n",
       "      <td>2</td>\n",
       "      <td>584.030000</td>\n",
       "      <td>21.285714</td>\n",
       "      <td>21.571429</td>\n",
       "      <td>0.474048</td>\n",
       "      <td>1.408955</td>\n",
       "      <td>641.967861</td>\n",
       "      <td>1873.861370</td>\n",
       "    </tr>\n",
       "  </tbody>\n",
       "</table>\n",
       "</div>"
      ],
      "text/plain": [
       "             recency_cltv_p    T  frequency  monetary_avg  \\\n",
       "Customer ID                                                 \n",
       "12347.0                 365  368          7    615.714286   \n",
       "12348.0                 282  359          4    449.310000   \n",
       "12352.0                 260  297          8    313.255000   \n",
       "12356.0                 302  326          3    937.143333   \n",
       "12358.0                 149  151          2    584.030000   \n",
       "\n",
       "             recency_weekly_cltv_p   T_weekly  exp_sales_1_month  \\\n",
       "Customer ID                                                        \n",
       "12347.0                  52.142857  52.571429           0.561684   \n",
       "12348.0                  40.285714  51.285714           0.364322   \n",
       "12352.0                  37.142857  42.428571           0.739160   \n",
       "12356.0                  43.142857  46.571429           0.333040   \n",
       "12358.0                  21.285714  21.571429           0.474048   \n",
       "\n",
       "             exp_sales_3_month  expected_average_profit       cltv_p  \n",
       "Customer ID                                                           \n",
       "12347.0               1.678069               632.019673  2211.388315  \n",
       "12348.0               1.087951               470.803034  1067.340288  \n",
       "12352.0               2.206857               320.724048  1474.515713  \n",
       "12356.0               0.993934               996.409652  2062.033986  \n",
       "12358.0               1.408955               641.967861  1873.861370  "
      ]
     },
     "execution_count": 166,
     "metadata": {},
     "output_type": "execute_result"
    }
   ],
   "source": [
    "rfm.head()"
   ]
  },
  {
   "cell_type": "markdown",
   "metadata": {},
   "source": [
    "##### Everything looks allright"
   ]
  },
  {
   "cell_type": "markdown",
   "metadata": {},
   "source": [
    "##### Now in order \"cltv_p\" score we calculated to make sense to us lets make it scaleable"
   ]
  },
  {
   "cell_type": "code",
   "execution_count": 167,
   "metadata": {},
   "outputs": [],
   "source": [
    "scaler = MinMaxScaler(feature_range=(1, 100))\n",
    "scaler.fit(rfm[[\"cltv_p\"]])\n",
    "rfm[\"cltv_p\"] = scaler.transform(rfm[[\"cltv_p\"]])"
   ]
  },
  {
   "cell_type": "markdown",
   "metadata": {},
   "source": [
    "##### We can now confidently segment our customers according to their cltv values"
   ]
  },
  {
   "cell_type": "code",
   "execution_count": 168,
   "metadata": {},
   "outputs": [],
   "source": [
    "rfm[\"cltv_p_segment\"] = pd.qcut(rfm[\"cltv_p\"], 4, labels=[\"bronze\",\"silver\", \"gold\", \"premium\"])"
   ]
  },
  {
   "cell_type": "markdown",
   "metadata": {
    "jupyter": {
     "outputs_hidden": true
    }
   },
   "source": [
    "##### Here we diveded customers into segments using quartiles but this segmentation can be customized with using more complex structures"
   ]
  },
  {
   "cell_type": "markdown",
   "metadata": {},
   "source": [
    "##### Now We are succesfully segmented our customers. Lets sort them down and take a look"
   ]
  },
  {
   "cell_type": "code",
   "execution_count": 169,
   "metadata": {},
   "outputs": [
    {
     "data": {
      "text/html": [
       "<div>\n",
       "<style scoped>\n",
       "    .dataframe tbody tr th:only-of-type {\n",
       "        vertical-align: middle;\n",
       "    }\n",
       "\n",
       "    .dataframe tbody tr th {\n",
       "        vertical-align: top;\n",
       "    }\n",
       "\n",
       "    .dataframe thead th {\n",
       "        text-align: right;\n",
       "    }\n",
       "</style>\n",
       "<table border=\"1\" class=\"dataframe\">\n",
       "  <thead>\n",
       "    <tr style=\"text-align: right;\">\n",
       "      <th></th>\n",
       "      <th>recency_cltv_p</th>\n",
       "      <th>T</th>\n",
       "      <th>frequency</th>\n",
       "      <th>monetary_avg</th>\n",
       "      <th>recency_weekly_cltv_p</th>\n",
       "      <th>T_weekly</th>\n",
       "      <th>exp_sales_1_month</th>\n",
       "      <th>exp_sales_3_month</th>\n",
       "      <th>expected_average_profit</th>\n",
       "      <th>cltv_p</th>\n",
       "      <th>cltv_p_segment</th>\n",
       "    </tr>\n",
       "    <tr>\n",
       "      <th>Customer ID</th>\n",
       "      <th></th>\n",
       "      <th></th>\n",
       "      <th></th>\n",
       "      <th></th>\n",
       "      <th></th>\n",
       "      <th></th>\n",
       "      <th></th>\n",
       "      <th></th>\n",
       "      <th></th>\n",
       "      <th></th>\n",
       "      <th></th>\n",
       "    </tr>\n",
       "  </thead>\n",
       "  <tbody>\n",
       "    <tr>\n",
       "      <th>16446.0</th>\n",
       "      <td>204</td>\n",
       "      <td>206</td>\n",
       "      <td>2</td>\n",
       "      <td>84236.250000</td>\n",
       "      <td>29.142857</td>\n",
       "      <td>29.428571</td>\n",
       "      <td>0.378354</td>\n",
       "      <td>1.126338</td>\n",
       "      <td>92300.885839</td>\n",
       "      <td>100.000000</td>\n",
       "      <td>premium</td>\n",
       "    </tr>\n",
       "    <tr>\n",
       "      <th>14646.0</th>\n",
       "      <td>353</td>\n",
       "      <td>355</td>\n",
       "      <td>74</td>\n",
       "      <td>3786.567838</td>\n",
       "      <td>50.428571</td>\n",
       "      <td>50.714286</td>\n",
       "      <td>5.035170</td>\n",
       "      <td>15.049808</td>\n",
       "      <td>3795.579076</td>\n",
       "      <td>55.682751</td>\n",
       "      <td>premium</td>\n",
       "    </tr>\n",
       "    <tr>\n",
       "      <th>18102.0</th>\n",
       "      <td>366</td>\n",
       "      <td>368</td>\n",
       "      <td>60</td>\n",
       "      <td>4327.621667</td>\n",
       "      <td>52.285714</td>\n",
       "      <td>52.571429</td>\n",
       "      <td>3.981335</td>\n",
       "      <td>11.900989</td>\n",
       "      <td>4340.321694</td>\n",
       "      <td>50.453728</td>\n",
       "      <td>premium</td>\n",
       "    </tr>\n",
       "    <tr>\n",
       "      <th>17450.0</th>\n",
       "      <td>359</td>\n",
       "      <td>368</td>\n",
       "      <td>46</td>\n",
       "      <td>4229.365000</td>\n",
       "      <td>51.285714</td>\n",
       "      <td>52.571429</td>\n",
       "      <td>3.072429</td>\n",
       "      <td>9.183860</td>\n",
       "      <td>4245.570391</td>\n",
       "      <td>38.328453</td>\n",
       "      <td>premium</td>\n",
       "    </tr>\n",
       "    <tr>\n",
       "      <th>14096.0</th>\n",
       "      <td>97</td>\n",
       "      <td>102</td>\n",
       "      <td>17</td>\n",
       "      <td>3833.222941</td>\n",
       "      <td>13.857143</td>\n",
       "      <td>14.571429</td>\n",
       "      <td>3.112278</td>\n",
       "      <td>9.255671</td>\n",
       "      <td>3873.246509</td>\n",
       "      <td>35.102345</td>\n",
       "      <td>premium</td>\n",
       "    </tr>\n",
       "  </tbody>\n",
       "</table>\n",
       "</div>"
      ],
      "text/plain": [
       "             recency_cltv_p    T  frequency  monetary_avg  \\\n",
       "Customer ID                                                 \n",
       "16446.0                 204  206          2  84236.250000   \n",
       "14646.0                 353  355         74   3786.567838   \n",
       "18102.0                 366  368         60   4327.621667   \n",
       "17450.0                 359  368         46   4229.365000   \n",
       "14096.0                  97  102         17   3833.222941   \n",
       "\n",
       "             recency_weekly_cltv_p   T_weekly  exp_sales_1_month  \\\n",
       "Customer ID                                                        \n",
       "16446.0                  29.142857  29.428571           0.378354   \n",
       "14646.0                  50.428571  50.714286           5.035170   \n",
       "18102.0                  52.285714  52.571429           3.981335   \n",
       "17450.0                  51.285714  52.571429           3.072429   \n",
       "14096.0                  13.857143  14.571429           3.112278   \n",
       "\n",
       "             exp_sales_3_month  expected_average_profit      cltv_p  \\\n",
       "Customer ID                                                           \n",
       "16446.0               1.126338             92300.885839  100.000000   \n",
       "14646.0              15.049808              3795.579076   55.682751   \n",
       "18102.0              11.900989              4340.321694   50.453728   \n",
       "17450.0               9.183860              4245.570391   38.328453   \n",
       "14096.0               9.255671              3873.246509   35.102345   \n",
       "\n",
       "            cltv_p_segment  \n",
       "Customer ID                 \n",
       "16446.0            premium  \n",
       "14646.0            premium  \n",
       "18102.0            premium  \n",
       "17450.0            premium  \n",
       "14096.0            premium  "
      ]
     },
     "execution_count": 169,
     "metadata": {},
     "output_type": "execute_result"
    }
   ],
   "source": [
    "rfm.sort_values(by=\"cltv_p\", ascending=False).head()"
   ]
  },
  {
   "cell_type": "markdown",
   "metadata": {},
   "source": [
    "##### We are done with segmentation "
   ]
  },
  {
   "cell_type": "markdown",
   "metadata": {},
   "source": [
    "### Association Rule Learning"
   ]
  },
  {
   "cell_type": "code",
   "execution_count": 170,
   "metadata": {},
   "outputs": [
    {
     "data": {
      "text/html": [
       "<div>\n",
       "<style scoped>\n",
       "    .dataframe tbody tr th:only-of-type {\n",
       "        vertical-align: middle;\n",
       "    }\n",
       "\n",
       "    .dataframe tbody tr th {\n",
       "        vertical-align: top;\n",
       "    }\n",
       "\n",
       "    .dataframe thead th {\n",
       "        text-align: right;\n",
       "    }\n",
       "</style>\n",
       "<table border=\"1\" class=\"dataframe\">\n",
       "  <thead>\n",
       "    <tr style=\"text-align: right;\">\n",
       "      <th></th>\n",
       "      <th>recency_cltv_p</th>\n",
       "      <th>T</th>\n",
       "      <th>frequency</th>\n",
       "      <th>monetary_avg</th>\n",
       "      <th>recency_weekly_cltv_p</th>\n",
       "      <th>T_weekly</th>\n",
       "      <th>exp_sales_1_month</th>\n",
       "      <th>exp_sales_3_month</th>\n",
       "      <th>expected_average_profit</th>\n",
       "      <th>cltv_p</th>\n",
       "      <th>cltv_p_segment</th>\n",
       "    </tr>\n",
       "    <tr>\n",
       "      <th>Customer ID</th>\n",
       "      <th></th>\n",
       "      <th></th>\n",
       "      <th></th>\n",
       "      <th></th>\n",
       "      <th></th>\n",
       "      <th></th>\n",
       "      <th></th>\n",
       "      <th></th>\n",
       "      <th></th>\n",
       "      <th></th>\n",
       "      <th></th>\n",
       "    </tr>\n",
       "  </thead>\n",
       "  <tbody>\n",
       "    <tr>\n",
       "      <th>12347.0</th>\n",
       "      <td>365</td>\n",
       "      <td>368</td>\n",
       "      <td>7</td>\n",
       "      <td>615.714286</td>\n",
       "      <td>52.142857</td>\n",
       "      <td>52.571429</td>\n",
       "      <td>0.561684</td>\n",
       "      <td>1.678069</td>\n",
       "      <td>632.019673</td>\n",
       "      <td>2.014616</td>\n",
       "      <td>premium</td>\n",
       "    </tr>\n",
       "    <tr>\n",
       "      <th>12348.0</th>\n",
       "      <td>282</td>\n",
       "      <td>359</td>\n",
       "      <td>4</td>\n",
       "      <td>449.310000</td>\n",
       "      <td>40.285714</td>\n",
       "      <td>51.285714</td>\n",
       "      <td>0.364322</td>\n",
       "      <td>1.087951</td>\n",
       "      <td>470.803034</td>\n",
       "      <td>1.489711</td>\n",
       "      <td>gold</td>\n",
       "    </tr>\n",
       "    <tr>\n",
       "      <th>12352.0</th>\n",
       "      <td>260</td>\n",
       "      <td>297</td>\n",
       "      <td>8</td>\n",
       "      <td>313.255000</td>\n",
       "      <td>37.142857</td>\n",
       "      <td>42.428571</td>\n",
       "      <td>0.739160</td>\n",
       "      <td>2.206857</td>\n",
       "      <td>320.724048</td>\n",
       "      <td>1.676528</td>\n",
       "      <td>gold</td>\n",
       "    </tr>\n",
       "    <tr>\n",
       "      <th>12356.0</th>\n",
       "      <td>302</td>\n",
       "      <td>326</td>\n",
       "      <td>3</td>\n",
       "      <td>937.143333</td>\n",
       "      <td>43.142857</td>\n",
       "      <td>46.571429</td>\n",
       "      <td>0.333040</td>\n",
       "      <td>0.993934</td>\n",
       "      <td>996.409652</td>\n",
       "      <td>1.946090</td>\n",
       "      <td>premium</td>\n",
       "    </tr>\n",
       "    <tr>\n",
       "      <th>12358.0</th>\n",
       "      <td>149</td>\n",
       "      <td>151</td>\n",
       "      <td>2</td>\n",
       "      <td>584.030000</td>\n",
       "      <td>21.285714</td>\n",
       "      <td>21.571429</td>\n",
       "      <td>0.474048</td>\n",
       "      <td>1.408955</td>\n",
       "      <td>641.967861</td>\n",
       "      <td>1.859754</td>\n",
       "      <td>premium</td>\n",
       "    </tr>\n",
       "  </tbody>\n",
       "</table>\n",
       "</div>"
      ],
      "text/plain": [
       "             recency_cltv_p    T  frequency  monetary_avg  \\\n",
       "Customer ID                                                 \n",
       "12347.0                 365  368          7    615.714286   \n",
       "12348.0                 282  359          4    449.310000   \n",
       "12352.0                 260  297          8    313.255000   \n",
       "12356.0                 302  326          3    937.143333   \n",
       "12358.0                 149  151          2    584.030000   \n",
       "\n",
       "             recency_weekly_cltv_p   T_weekly  exp_sales_1_month  \\\n",
       "Customer ID                                                        \n",
       "12347.0                  52.142857  52.571429           0.561684   \n",
       "12348.0                  40.285714  51.285714           0.364322   \n",
       "12352.0                  37.142857  42.428571           0.739160   \n",
       "12356.0                  43.142857  46.571429           0.333040   \n",
       "12358.0                  21.285714  21.571429           0.474048   \n",
       "\n",
       "             exp_sales_3_month  expected_average_profit    cltv_p  \\\n",
       "Customer ID                                                         \n",
       "12347.0               1.678069               632.019673  2.014616   \n",
       "12348.0               1.087951               470.803034  1.489711   \n",
       "12352.0               2.206857               320.724048  1.676528   \n",
       "12356.0               0.993934               996.409652  1.946090   \n",
       "12358.0               1.408955               641.967861  1.859754   \n",
       "\n",
       "            cltv_p_segment  \n",
       "Customer ID                 \n",
       "12347.0            premium  \n",
       "12348.0               gold  \n",
       "12352.0               gold  \n",
       "12356.0            premium  \n",
       "12358.0            premium  "
      ]
     },
     "execution_count": 170,
     "metadata": {},
     "output_type": "execute_result"
    }
   ],
   "source": [
    "rfm.head()"
   ]
  },
  {
   "cell_type": "markdown",
   "metadata": {},
   "source": [
    "##### First lets select the indexes of customers form different segments"
   ]
  },
  {
   "cell_type": "code",
   "execution_count": 171,
   "metadata": {},
   "outputs": [],
   "source": [
    "premium_segment_ids = rfm[rfm[\"cltv_p_segment\"] == \"premium\"].index\n",
    "gold_segment_ids = rfm[rfm[\"cltv_p_segment\"] == \"gold\"].index\n",
    "silver_segment_ids = rfm[rfm[\"cltv_p_segment\"] == \"silver\"].index\n",
    "bronze_segment_ids = rfm[rfm[\"cltv_p_segment\"] == \"bronze\"].index"
   ]
  },
  {
   "cell_type": "markdown",
   "metadata": {},
   "source": [
    "##### Now we can seperate segments using segment indexes created above\n",
    "##### We will use \"Customer ID\" as a variable to do that but it is index at the moment. To do that before seperation we need to reset the index"
   ]
  },
  {
   "cell_type": "code",
   "execution_count": 172,
   "metadata": {},
   "outputs": [
    {
     "data": {
      "text/html": [
       "<div>\n",
       "<style scoped>\n",
       "    .dataframe tbody tr th:only-of-type {\n",
       "        vertical-align: middle;\n",
       "    }\n",
       "\n",
       "    .dataframe tbody tr th {\n",
       "        vertical-align: top;\n",
       "    }\n",
       "\n",
       "    .dataframe thead th {\n",
       "        text-align: right;\n",
       "    }\n",
       "</style>\n",
       "<table border=\"1\" class=\"dataframe\">\n",
       "  <thead>\n",
       "    <tr style=\"text-align: right;\">\n",
       "      <th></th>\n",
       "      <th>recency_cltv_p</th>\n",
       "      <th>T</th>\n",
       "      <th>frequency</th>\n",
       "      <th>monetary_avg</th>\n",
       "      <th>recency_weekly_cltv_p</th>\n",
       "      <th>T_weekly</th>\n",
       "      <th>exp_sales_1_month</th>\n",
       "      <th>exp_sales_3_month</th>\n",
       "      <th>expected_average_profit</th>\n",
       "      <th>cltv_p</th>\n",
       "      <th>cltv_p_segment</th>\n",
       "    </tr>\n",
       "    <tr>\n",
       "      <th>Customer ID</th>\n",
       "      <th></th>\n",
       "      <th></th>\n",
       "      <th></th>\n",
       "      <th></th>\n",
       "      <th></th>\n",
       "      <th></th>\n",
       "      <th></th>\n",
       "      <th></th>\n",
       "      <th></th>\n",
       "      <th></th>\n",
       "      <th></th>\n",
       "    </tr>\n",
       "  </thead>\n",
       "  <tbody>\n",
       "    <tr>\n",
       "      <th>12347.0</th>\n",
       "      <td>365</td>\n",
       "      <td>368</td>\n",
       "      <td>7</td>\n",
       "      <td>615.714286</td>\n",
       "      <td>52.142857</td>\n",
       "      <td>52.571429</td>\n",
       "      <td>0.561684</td>\n",
       "      <td>1.678069</td>\n",
       "      <td>632.019673</td>\n",
       "      <td>2.014616</td>\n",
       "      <td>premium</td>\n",
       "    </tr>\n",
       "    <tr>\n",
       "      <th>12348.0</th>\n",
       "      <td>282</td>\n",
       "      <td>359</td>\n",
       "      <td>4</td>\n",
       "      <td>449.310000</td>\n",
       "      <td>40.285714</td>\n",
       "      <td>51.285714</td>\n",
       "      <td>0.364322</td>\n",
       "      <td>1.087951</td>\n",
       "      <td>470.803034</td>\n",
       "      <td>1.489711</td>\n",
       "      <td>gold</td>\n",
       "    </tr>\n",
       "    <tr>\n",
       "      <th>12352.0</th>\n",
       "      <td>260</td>\n",
       "      <td>297</td>\n",
       "      <td>8</td>\n",
       "      <td>313.255000</td>\n",
       "      <td>37.142857</td>\n",
       "      <td>42.428571</td>\n",
       "      <td>0.739160</td>\n",
       "      <td>2.206857</td>\n",
       "      <td>320.724048</td>\n",
       "      <td>1.676528</td>\n",
       "      <td>gold</td>\n",
       "    </tr>\n",
       "    <tr>\n",
       "      <th>12356.0</th>\n",
       "      <td>302</td>\n",
       "      <td>326</td>\n",
       "      <td>3</td>\n",
       "      <td>937.143333</td>\n",
       "      <td>43.142857</td>\n",
       "      <td>46.571429</td>\n",
       "      <td>0.333040</td>\n",
       "      <td>0.993934</td>\n",
       "      <td>996.409652</td>\n",
       "      <td>1.946090</td>\n",
       "      <td>premium</td>\n",
       "    </tr>\n",
       "    <tr>\n",
       "      <th>12358.0</th>\n",
       "      <td>149</td>\n",
       "      <td>151</td>\n",
       "      <td>2</td>\n",
       "      <td>584.030000</td>\n",
       "      <td>21.285714</td>\n",
       "      <td>21.571429</td>\n",
       "      <td>0.474048</td>\n",
       "      <td>1.408955</td>\n",
       "      <td>641.967861</td>\n",
       "      <td>1.859754</td>\n",
       "      <td>premium</td>\n",
       "    </tr>\n",
       "  </tbody>\n",
       "</table>\n",
       "</div>"
      ],
      "text/plain": [
       "             recency_cltv_p    T  frequency  monetary_avg  \\\n",
       "Customer ID                                                 \n",
       "12347.0                 365  368          7    615.714286   \n",
       "12348.0                 282  359          4    449.310000   \n",
       "12352.0                 260  297          8    313.255000   \n",
       "12356.0                 302  326          3    937.143333   \n",
       "12358.0                 149  151          2    584.030000   \n",
       "\n",
       "             recency_weekly_cltv_p   T_weekly  exp_sales_1_month  \\\n",
       "Customer ID                                                        \n",
       "12347.0                  52.142857  52.571429           0.561684   \n",
       "12348.0                  40.285714  51.285714           0.364322   \n",
       "12352.0                  37.142857  42.428571           0.739160   \n",
       "12356.0                  43.142857  46.571429           0.333040   \n",
       "12358.0                  21.285714  21.571429           0.474048   \n",
       "\n",
       "             exp_sales_3_month  expected_average_profit    cltv_p  \\\n",
       "Customer ID                                                         \n",
       "12347.0               1.678069               632.019673  2.014616   \n",
       "12348.0               1.087951               470.803034  1.489711   \n",
       "12352.0               2.206857               320.724048  1.676528   \n",
       "12356.0               0.993934               996.409652  1.946090   \n",
       "12358.0               1.408955               641.967861  1.859754   \n",
       "\n",
       "            cltv_p_segment  \n",
       "Customer ID                 \n",
       "12347.0            premium  \n",
       "12348.0               gold  \n",
       "12352.0               gold  \n",
       "12356.0            premium  \n",
       "12358.0            premium  "
      ]
     },
     "execution_count": 172,
     "metadata": {},
     "output_type": "execute_result"
    }
   ],
   "source": [
    "rfm.head()"
   ]
  },
  {
   "cell_type": "code",
   "execution_count": 173,
   "metadata": {},
   "outputs": [],
   "source": [
    "rfm = rfm.reset_index()"
   ]
  },
  {
   "cell_type": "code",
   "execution_count": 174,
   "metadata": {},
   "outputs": [],
   "source": [
    "premium_segment_df = df[df[\"Customer ID\"].isin(premium_segment_ids)]\n",
    "gold_segment_df = df[df[\"Customer ID\"].isin(gold_segment_ids)]\n",
    "silver_segment_df = df[df[\"Customer ID\"].isin(silver_segment_ids)]\n",
    "bronze_segment_df = df[df[\"Customer ID\"].isin(bronze_segment_ids)]"
   ]
  },
  {
   "cell_type": "markdown",
   "metadata": {},
   "source": [
    "##### To create Association Rules among the products we need a pivot table. In this table, columns should be the product names, index should be the invoice numbers\n",
    "##### and the content of this table should be ones and zeros to determine which invoice includes which products.\n",
    "##### As we are going to need this table to create Association Rules for each segment lets define a function to do this"
   ]
  },
  {
   "cell_type": "code",
   "execution_count": 57,
   "metadata": {},
   "outputs": [],
   "source": [
    "def create_invoice_product_df(dataframe):\n",
    "    \n",
    "    return dataframe.groupby(['Invoice', 'StockCode'])['Quantity'].sum().unstack().fillna(0).applymap(lambda x: 1 if x > 0 else 0) \n",
    "\n",
    "# We are filling NA values with zeros wich means that invoice does not contain that product\n",
    "# we are changing quantity value to (one ore zero). \n",
    "# Because we are not interested in quantity of purchesed products. We just need it did purchesed or not"
   ]
  },
  {
   "cell_type": "markdown",
   "metadata": {},
   "source": [
    "##### Now we are good to go for Creating Association Rules\n",
    "##### As the following steps include heavy calculations and our data is relatively big, I personally do not advise usage of all data \n",
    "##### Especially in an environment like Jupyterlab.\n",
    "##### We will filter the data and create Association Rules only for German Customers as an example here\n",
    "##### After that we will create Association Rules for different segments we created above"
   ]
  },
  {
   "cell_type": "code",
   "execution_count": 81,
   "metadata": {},
   "outputs": [],
   "source": [
    "df_pivot = df[df['Country'] == \"Germany\"]\n",
    "df_pivot = create_invoice_product_df(df_pivot) # This is the function we crated above\n"
   ]
  },
  {
   "cell_type": "markdown",
   "metadata": {},
   "source": [
    "##### lets see what this table looks like"
   ]
  },
  {
   "cell_type": "code",
   "execution_count": 85,
   "metadata": {},
   "outputs": [
    {
     "data": {
      "text/plain": [
       "(457, 1665)"
      ]
     },
     "execution_count": 85,
     "metadata": {},
     "output_type": "execute_result"
    }
   ],
   "source": [
    "df_pivot.shape #We have got 457 invoice belongs to German Customers and 1665 different products"
   ]
  },
  {
   "cell_type": "code",
   "execution_count": 86,
   "metadata": {},
   "outputs": [
    {
     "data": {
      "text/html": [
       "<div>\n",
       "<style scoped>\n",
       "    .dataframe tbody tr th:only-of-type {\n",
       "        vertical-align: middle;\n",
       "    }\n",
       "\n",
       "    .dataframe tbody tr th {\n",
       "        vertical-align: top;\n",
       "    }\n",
       "\n",
       "    .dataframe thead th {\n",
       "        text-align: right;\n",
       "    }\n",
       "</style>\n",
       "<table border=\"1\" class=\"dataframe\">\n",
       "  <thead>\n",
       "    <tr style=\"text-align: right;\">\n",
       "      <th>StockCode</th>\n",
       "      <th>10002</th>\n",
       "      <th>10125</th>\n",
       "      <th>10135</th>\n",
       "      <th>11001</th>\n",
       "      <th>15034</th>\n",
       "      <th>15036</th>\n",
       "      <th>15039</th>\n",
       "      <th>16008</th>\n",
       "      <th>16011</th>\n",
       "      <th>16014</th>\n",
       "      <th>...</th>\n",
       "      <th>90161B</th>\n",
       "      <th>90161C</th>\n",
       "      <th>90161D</th>\n",
       "      <th>90201A</th>\n",
       "      <th>90201B</th>\n",
       "      <th>90201C</th>\n",
       "      <th>90201D</th>\n",
       "      <th>90202D</th>\n",
       "      <th>M</th>\n",
       "      <th>POST</th>\n",
       "    </tr>\n",
       "    <tr>\n",
       "      <th>Invoice</th>\n",
       "      <th></th>\n",
       "      <th></th>\n",
       "      <th></th>\n",
       "      <th></th>\n",
       "      <th></th>\n",
       "      <th></th>\n",
       "      <th></th>\n",
       "      <th></th>\n",
       "      <th></th>\n",
       "      <th></th>\n",
       "      <th></th>\n",
       "      <th></th>\n",
       "      <th></th>\n",
       "      <th></th>\n",
       "      <th></th>\n",
       "      <th></th>\n",
       "      <th></th>\n",
       "      <th></th>\n",
       "      <th></th>\n",
       "      <th></th>\n",
       "      <th></th>\n",
       "    </tr>\n",
       "  </thead>\n",
       "  <tbody>\n",
       "    <tr>\n",
       "      <th>536527</th>\n",
       "      <td>0</td>\n",
       "      <td>0</td>\n",
       "      <td>0</td>\n",
       "      <td>0</td>\n",
       "      <td>0</td>\n",
       "      <td>0</td>\n",
       "      <td>0</td>\n",
       "      <td>0</td>\n",
       "      <td>0</td>\n",
       "      <td>0</td>\n",
       "      <td>...</td>\n",
       "      <td>0</td>\n",
       "      <td>0</td>\n",
       "      <td>0</td>\n",
       "      <td>0</td>\n",
       "      <td>0</td>\n",
       "      <td>0</td>\n",
       "      <td>0</td>\n",
       "      <td>0</td>\n",
       "      <td>0</td>\n",
       "      <td>1</td>\n",
       "    </tr>\n",
       "    <tr>\n",
       "      <th>536840</th>\n",
       "      <td>0</td>\n",
       "      <td>0</td>\n",
       "      <td>0</td>\n",
       "      <td>0</td>\n",
       "      <td>0</td>\n",
       "      <td>0</td>\n",
       "      <td>0</td>\n",
       "      <td>0</td>\n",
       "      <td>0</td>\n",
       "      <td>0</td>\n",
       "      <td>...</td>\n",
       "      <td>0</td>\n",
       "      <td>0</td>\n",
       "      <td>0</td>\n",
       "      <td>0</td>\n",
       "      <td>0</td>\n",
       "      <td>0</td>\n",
       "      <td>0</td>\n",
       "      <td>0</td>\n",
       "      <td>0</td>\n",
       "      <td>1</td>\n",
       "    </tr>\n",
       "    <tr>\n",
       "      <th>536861</th>\n",
       "      <td>0</td>\n",
       "      <td>0</td>\n",
       "      <td>0</td>\n",
       "      <td>0</td>\n",
       "      <td>0</td>\n",
       "      <td>0</td>\n",
       "      <td>0</td>\n",
       "      <td>0</td>\n",
       "      <td>0</td>\n",
       "      <td>0</td>\n",
       "      <td>...</td>\n",
       "      <td>0</td>\n",
       "      <td>0</td>\n",
       "      <td>0</td>\n",
       "      <td>0</td>\n",
       "      <td>0</td>\n",
       "      <td>0</td>\n",
       "      <td>0</td>\n",
       "      <td>0</td>\n",
       "      <td>0</td>\n",
       "      <td>1</td>\n",
       "    </tr>\n",
       "    <tr>\n",
       "      <th>536967</th>\n",
       "      <td>0</td>\n",
       "      <td>0</td>\n",
       "      <td>0</td>\n",
       "      <td>0</td>\n",
       "      <td>0</td>\n",
       "      <td>0</td>\n",
       "      <td>0</td>\n",
       "      <td>0</td>\n",
       "      <td>0</td>\n",
       "      <td>0</td>\n",
       "      <td>...</td>\n",
       "      <td>0</td>\n",
       "      <td>0</td>\n",
       "      <td>0</td>\n",
       "      <td>0</td>\n",
       "      <td>0</td>\n",
       "      <td>0</td>\n",
       "      <td>0</td>\n",
       "      <td>0</td>\n",
       "      <td>0</td>\n",
       "      <td>1</td>\n",
       "    </tr>\n",
       "    <tr>\n",
       "      <th>536983</th>\n",
       "      <td>0</td>\n",
       "      <td>0</td>\n",
       "      <td>0</td>\n",
       "      <td>0</td>\n",
       "      <td>0</td>\n",
       "      <td>0</td>\n",
       "      <td>0</td>\n",
       "      <td>0</td>\n",
       "      <td>0</td>\n",
       "      <td>0</td>\n",
       "      <td>...</td>\n",
       "      <td>0</td>\n",
       "      <td>0</td>\n",
       "      <td>0</td>\n",
       "      <td>0</td>\n",
       "      <td>0</td>\n",
       "      <td>0</td>\n",
       "      <td>0</td>\n",
       "      <td>0</td>\n",
       "      <td>0</td>\n",
       "      <td>1</td>\n",
       "    </tr>\n",
       "  </tbody>\n",
       "</table>\n",
       "<p>5 rows × 1665 columns</p>\n",
       "</div>"
      ],
      "text/plain": [
       "StockCode  10002  10125  10135  11001  15034  15036  15039  16008  16011  \\\n",
       "Invoice                                                                    \n",
       "536527         0      0      0      0      0      0      0      0      0   \n",
       "536840         0      0      0      0      0      0      0      0      0   \n",
       "536861         0      0      0      0      0      0      0      0      0   \n",
       "536967         0      0      0      0      0      0      0      0      0   \n",
       "536983         0      0      0      0      0      0      0      0      0   \n",
       "\n",
       "StockCode  16014  ...  90161B  90161C  90161D  90201A  90201B  90201C  90201D  \\\n",
       "Invoice           ...                                                           \n",
       "536527         0  ...       0       0       0       0       0       0       0   \n",
       "536840         0  ...       0       0       0       0       0       0       0   \n",
       "536861         0  ...       0       0       0       0       0       0       0   \n",
       "536967         0  ...       0       0       0       0       0       0       0   \n",
       "536983         0  ...       0       0       0       0       0       0       0   \n",
       "\n",
       "StockCode  90202D  M  POST  \n",
       "Invoice                     \n",
       "536527          0  0     1  \n",
       "536840          0  0     1  \n",
       "536861          0  0     1  \n",
       "536967          0  0     1  \n",
       "536983          0  0     1  \n",
       "\n",
       "[5 rows x 1665 columns]"
      ]
     },
     "execution_count": 86,
     "metadata": {},
     "output_type": "execute_result"
    }
   ],
   "source": [
    "df_pivot.head()"
   ]
  },
  {
   "cell_type": "code",
   "execution_count": 87,
   "metadata": {},
   "outputs": [],
   "source": [
    "frequent_itemsets = apriori(df_pivot, min_support=0.01, use_colnames=True) \n",
    "\n",
    "# This function (apriori) creates support values which means purches rate of an item or item combinations \n",
    "# We are using \"df_pivot\" dataframe we created above\n",
    "# Also we gave a minimum support value to limit the return. "
   ]
  },
  {
   "cell_type": "markdown",
   "metadata": {},
   "source": [
    "##### lets sort the values in frequent_itemsets and take a look"
   ]
  },
  {
   "cell_type": "code",
   "execution_count": 93,
   "metadata": {},
   "outputs": [
    {
     "data": {
      "text/html": [
       "<div>\n",
       "<style scoped>\n",
       "    .dataframe tbody tr th:only-of-type {\n",
       "        vertical-align: middle;\n",
       "    }\n",
       "\n",
       "    .dataframe tbody tr th {\n",
       "        vertical-align: top;\n",
       "    }\n",
       "\n",
       "    .dataframe thead th {\n",
       "        text-align: right;\n",
       "    }\n",
       "</style>\n",
       "<table border=\"1\" class=\"dataframe\">\n",
       "  <thead>\n",
       "    <tr style=\"text-align: right;\">\n",
       "      <th></th>\n",
       "      <th>support</th>\n",
       "      <th>itemsets</th>\n",
       "    </tr>\n",
       "  </thead>\n",
       "  <tbody>\n",
       "    <tr>\n",
       "      <th>538</th>\n",
       "      <td>0.818381</td>\n",
       "      <td>(POST)</td>\n",
       "    </tr>\n",
       "    <tr>\n",
       "      <th>189</th>\n",
       "      <td>0.245077</td>\n",
       "      <td>(22326)</td>\n",
       "    </tr>\n",
       "    <tr>\n",
       "      <th>1864</th>\n",
       "      <td>0.225383</td>\n",
       "      <td>(POST, 22326)</td>\n",
       "    </tr>\n",
       "    <tr>\n",
       "      <th>191</th>\n",
       "      <td>0.157549</td>\n",
       "      <td>(22328)</td>\n",
       "    </tr>\n",
       "    <tr>\n",
       "      <th>1931</th>\n",
       "      <td>0.150985</td>\n",
       "      <td>(22328, POST)</td>\n",
       "    </tr>\n",
       "    <tr>\n",
       "      <th>220</th>\n",
       "      <td>0.137856</td>\n",
       "      <td>(22423)</td>\n",
       "    </tr>\n",
       "    <tr>\n",
       "      <th>242</th>\n",
       "      <td>0.137856</td>\n",
       "      <td>(22554)</td>\n",
       "    </tr>\n",
       "    <tr>\n",
       "      <th>1746</th>\n",
       "      <td>0.131291</td>\n",
       "      <td>(22328, 22326)</td>\n",
       "    </tr>\n",
       "    <tr>\n",
       "      <th>17</th>\n",
       "      <td>0.126915</td>\n",
       "      <td>(20719)</td>\n",
       "    </tr>\n",
       "    <tr>\n",
       "      <th>4457</th>\n",
       "      <td>0.124726</td>\n",
       "      <td>(22328, POST, 22326)</td>\n",
       "    </tr>\n",
       "  </tbody>\n",
       "</table>\n",
       "</div>"
      ],
      "text/plain": [
       "       support              itemsets\n",
       "538   0.818381                (POST)\n",
       "189   0.245077               (22326)\n",
       "1864  0.225383         (POST, 22326)\n",
       "191   0.157549               (22328)\n",
       "1931  0.150985         (22328, POST)\n",
       "220   0.137856               (22423)\n",
       "242   0.137856               (22554)\n",
       "1746  0.131291        (22328, 22326)\n",
       "17    0.126915               (20719)\n",
       "4457  0.124726  (22328, POST, 22326)"
      ]
     },
     "execution_count": 93,
     "metadata": {},
     "output_type": "execute_result"
    }
   ],
   "source": [
    "frequent_itemsets.sort_values(\"support\", ascending= False).head(10)"
   ]
  },
  {
   "cell_type": "markdown",
   "metadata": {},
   "source": [
    "##### As you can see items and itemsets are listed according to their purches rate\n",
    "##### For example \"POST\" is in invoices in 81% of the purcheses or \"22326\"is in invoice 24% of the purcheses\n",
    "##### Are you curious about what those items are? Lets make function return product description"
   ]
  },
  {
   "cell_type": "code",
   "execution_count": 98,
   "metadata": {},
   "outputs": [],
   "source": [
    "def check_id(stock_code):\n",
    "    product_name = df[df[\"StockCode\"] == stock_code][[\"Description\"]].values[0].tolist()\n",
    "    return print(product_name)"
   ]
  },
  {
   "cell_type": "code",
   "execution_count": 100,
   "metadata": {},
   "outputs": [
    {
     "name": "stdout",
     "output_type": "stream",
     "text": [
      "['POSTAGE']\n"
     ]
    }
   ],
   "source": [
    "check_id(\"POST\") # this is as expected not a product but shipping cost obviously."
   ]
  },
  {
   "cell_type": "code",
   "execution_count": 102,
   "metadata": {},
   "outputs": [
    {
     "name": "stdout",
     "output_type": "stream",
     "text": [
      "['ROUND SNACK BOXES SET OF4 WOODLAND ']\n"
     ]
    }
   ],
   "source": [
    "check_id(22326) # But this is a real product "
   ]
  },
  {
   "cell_type": "markdown",
   "metadata": {},
   "source": [
    "##### If you wonder what this product look like check this link out\n",
    "##### https://www.amazon.co.uk/Woodland-Design-Round-Snack-Boxes/dp/B00337093K"
   ]
  },
  {
   "cell_type": "markdown",
   "metadata": {},
   "source": [
    "##### Now we will create rules with frequent_itemsets that we created above"
   ]
  },
  {
   "cell_type": "code",
   "execution_count": 104,
   "metadata": {},
   "outputs": [],
   "source": [
    "rules = association_rules(frequent_itemsets, metric=\"support\", min_threshold=0.01) # Again we determine a minimum treshold value for support metric"
   ]
  },
  {
   "cell_type": "markdown",
   "metadata": {},
   "source": [
    "##### Rules are created lets sort them down and take a look"
   ]
  },
  {
   "cell_type": "code",
   "execution_count": 106,
   "metadata": {},
   "outputs": [
    {
     "data": {
      "text/html": [
       "<div>\n",
       "<style scoped>\n",
       "    .dataframe tbody tr th:only-of-type {\n",
       "        vertical-align: middle;\n",
       "    }\n",
       "\n",
       "    .dataframe tbody tr th {\n",
       "        vertical-align: top;\n",
       "    }\n",
       "\n",
       "    .dataframe thead th {\n",
       "        text-align: right;\n",
       "    }\n",
       "</style>\n",
       "<table border=\"1\" class=\"dataframe\">\n",
       "  <thead>\n",
       "    <tr style=\"text-align: right;\">\n",
       "      <th></th>\n",
       "      <th>antecedents</th>\n",
       "      <th>consequents</th>\n",
       "      <th>antecedent support</th>\n",
       "      <th>consequent support</th>\n",
       "      <th>support</th>\n",
       "      <th>confidence</th>\n",
       "      <th>lift</th>\n",
       "      <th>leverage</th>\n",
       "      <th>conviction</th>\n",
       "    </tr>\n",
       "  </thead>\n",
       "  <tbody>\n",
       "    <tr>\n",
       "      <th>39036</th>\n",
       "      <td>(21987, 21989)</td>\n",
       "      <td>(21086, 21988, 21094)</td>\n",
       "      <td>0.010941</td>\n",
       "      <td>0.010941</td>\n",
       "      <td>0.010941</td>\n",
       "      <td>1.0</td>\n",
       "      <td>91.4</td>\n",
       "      <td>0.010821</td>\n",
       "      <td>inf</td>\n",
       "    </tr>\n",
       "    <tr>\n",
       "      <th>39041</th>\n",
       "      <td>(21988, 21086)</td>\n",
       "      <td>(21987, 21989, 21094)</td>\n",
       "      <td>0.010941</td>\n",
       "      <td>0.010941</td>\n",
       "      <td>0.010941</td>\n",
       "      <td>1.0</td>\n",
       "      <td>91.4</td>\n",
       "      <td>0.010821</td>\n",
       "      <td>inf</td>\n",
       "    </tr>\n",
       "    <tr>\n",
       "      <th>24745</th>\n",
       "      <td>(21987, 21989)</td>\n",
       "      <td>(21988, 21086)</td>\n",
       "      <td>0.010941</td>\n",
       "      <td>0.010941</td>\n",
       "      <td>0.010941</td>\n",
       "      <td>1.0</td>\n",
       "      <td>91.4</td>\n",
       "      <td>0.010821</td>\n",
       "      <td>inf</td>\n",
       "    </tr>\n",
       "    <tr>\n",
       "      <th>24748</th>\n",
       "      <td>(21988, 21086)</td>\n",
       "      <td>(21987, 21989)</td>\n",
       "      <td>0.010941</td>\n",
       "      <td>0.010941</td>\n",
       "      <td>0.010941</td>\n",
       "      <td>1.0</td>\n",
       "      <td>91.4</td>\n",
       "      <td>0.010821</td>\n",
       "      <td>inf</td>\n",
       "    </tr>\n",
       "    <tr>\n",
       "      <th>24749</th>\n",
       "      <td>(21989, 21086)</td>\n",
       "      <td>(21987, 21988)</td>\n",
       "      <td>0.010941</td>\n",
       "      <td>0.010941</td>\n",
       "      <td>0.010941</td>\n",
       "      <td>1.0</td>\n",
       "      <td>91.4</td>\n",
       "      <td>0.010821</td>\n",
       "      <td>inf</td>\n",
       "    </tr>\n",
       "  </tbody>\n",
       "</table>\n",
       "</div>"
      ],
      "text/plain": [
       "          antecedents            consequents  antecedent support  \\\n",
       "39036  (21987, 21989)  (21086, 21988, 21094)            0.010941   \n",
       "39041  (21988, 21086)  (21987, 21989, 21094)            0.010941   \n",
       "24745  (21987, 21989)         (21988, 21086)            0.010941   \n",
       "24748  (21988, 21086)         (21987, 21989)            0.010941   \n",
       "24749  (21989, 21086)         (21987, 21988)            0.010941   \n",
       "\n",
       "       consequent support   support  confidence  lift  leverage  conviction  \n",
       "39036            0.010941  0.010941         1.0  91.4  0.010821         inf  \n",
       "39041            0.010941  0.010941         1.0  91.4  0.010821         inf  \n",
       "24745            0.010941  0.010941         1.0  91.4  0.010821         inf  \n",
       "24748            0.010941  0.010941         1.0  91.4  0.010821         inf  \n",
       "24749            0.010941  0.010941         1.0  91.4  0.010821         inf  "
      ]
     },
     "execution_count": 106,
     "metadata": {},
     "output_type": "execute_result"
    }
   ],
   "source": [
    "rules.sort_values(\"lift\", ascending=False).head()"
   ]
  },
  {
   "cell_type": "markdown",
   "metadata": {},
   "source": [
    "### What does this table mean?\n",
    "##### antecedents: first itemset\n",
    "##### consequents: second itemset\n",
    "##### antecedent support: first itemset's support(purches rate of first itemset)\n",
    "##### consequent support: second itemset's support(purches rate of second itemset)\n",
    "##### support: purches rate of first and the second itemset at the same time\n",
    "##### confidence: purches possibility of second itemset in case of purchising first itemset\n",
    "##### lift: represets the increase in the purches possibility of second itemset after purchising first itemset\n",
    "##### leverage: I do not know exactly what this means\n",
    "##### conviction: I do not know this too"
   ]
  },
  {
   "cell_type": "markdown",
   "metadata": {},
   "source": [
    "#### Now we will use \"consequents\" from the table above to determine a product to recommend for our customers according to their segments\n",
    "#### But before that we need to create rules for our each segment we seperated earlier\n",
    "#### As this process is kind of requires repeated steps, lets define a function to speed up things a little"
   ]
  },
  {
   "cell_type": "code",
   "execution_count": 108,
   "metadata": {},
   "outputs": [],
   "source": [
    "def create_rules(dataframe):\n",
    "\n",
    "    dataframe = create_invoice_product_df(dataframe)\n",
    "    frequent_itemsets = apriori(dataframe, min_support=0.01, use_colnames=True)\n",
    "    rules = association_rules(frequent_itemsets, metric=\"support\", min_threshold=0.01)\n",
    "\n",
    "    return rules"
   ]
  },
  {
   "cell_type": "markdown",
   "metadata": {},
   "source": [
    "#### Warning! As following steps consist of heavy calculations it might take a few minutes depending on your computer power\n"
   ]
  },
  {
   "cell_type": "code",
   "execution_count": 179,
   "metadata": {},
   "outputs": [],
   "source": [
    "rules_for_premium_segment_df = create_rules(premium_segment_df)\n",
    "product_for_premium = rules_for_premium_segment_df[\"consequents\"].apply(lambda x: list(x)[0]).astype(\"unicode\")[0]"
   ]
  },
  {
   "cell_type": "code",
   "execution_count": 180,
   "metadata": {},
   "outputs": [],
   "source": [
    "rules_for_gold_segment_df = create_rules(gold_segment_df)\n",
    "product_for_gold = rules_for_gold_segment_df[\"consequents\"].apply(lambda x: list(x)[0]).astype(\"unicode\")[0]"
   ]
  },
  {
   "cell_type": "code",
   "execution_count": 181,
   "metadata": {},
   "outputs": [],
   "source": [
    "rules_for_silver_segment_df = create_rules(silver_segment_df)\n",
    "product_for_silver = rules_for_silver_segment_df[\"consequents\"].apply(lambda x: list(x)[0]).astype(\"unicode\")[0]"
   ]
  },
  {
   "cell_type": "code",
   "execution_count": 182,
   "metadata": {},
   "outputs": [],
   "source": [
    "rules_for_bronze_segment_df = create_rules(bronze_segment_df)\n",
    "product_for_bronze = rules_for_bronze_segment_df[\"consequents\"].apply(lambda x: list(x)[0]).astype(\"unicode\")[0]"
   ]
  },
  {
   "cell_type": "markdown",
   "metadata": {},
   "source": [
    "##### We determined the products lets recommend the products we determined to our customers in France"
   ]
  },
  {
   "cell_type": "markdown",
   "metadata": {},
   "source": [
    "##### To do that lets create a france table and create a \"recommended product\" variable in it and \n",
    "##### fill it with the products we determined above to recommend "
   ]
  },
  {
   "cell_type": "code",
   "execution_count": 202,
   "metadata": {},
   "outputs": [],
   "source": [
    "france_ids = df[df[\"Country\"] == \"France\"][\"Customer ID\"].drop_duplicates() # Customer ID's of French Customers selected here"
   ]
  },
  {
   "cell_type": "code",
   "execution_count": 184,
   "metadata": {},
   "outputs": [],
   "source": [
    "rfm[\"recommended_product\"] = \"\"  # Here we add an empty variable called \"recommended_product\" to our rfm table"
   ]
  },
  {
   "cell_type": "code",
   "execution_count": 209,
   "metadata": {},
   "outputs": [
    {
     "data": {
      "text/html": [
       "<div>\n",
       "<style scoped>\n",
       "    .dataframe tbody tr th:only-of-type {\n",
       "        vertical-align: middle;\n",
       "    }\n",
       "\n",
       "    .dataframe tbody tr th {\n",
       "        vertical-align: top;\n",
       "    }\n",
       "\n",
       "    .dataframe thead th {\n",
       "        text-align: right;\n",
       "    }\n",
       "</style>\n",
       "<table border=\"1\" class=\"dataframe\">\n",
       "  <thead>\n",
       "    <tr style=\"text-align: right;\">\n",
       "      <th></th>\n",
       "      <th>Customer ID</th>\n",
       "      <th>recency_cltv_p</th>\n",
       "      <th>T</th>\n",
       "      <th>frequency</th>\n",
       "      <th>monetary_avg</th>\n",
       "      <th>recency_weekly_cltv_p</th>\n",
       "      <th>T_weekly</th>\n",
       "      <th>exp_sales_1_month</th>\n",
       "      <th>exp_sales_3_month</th>\n",
       "      <th>expected_average_profit</th>\n",
       "      <th>cltv_p</th>\n",
       "      <th>cltv_p_segment</th>\n",
       "      <th>recommended_product</th>\n",
       "    </tr>\n",
       "  </thead>\n",
       "  <tbody>\n",
       "    <tr>\n",
       "      <th>0</th>\n",
       "      <td>12347.0</td>\n",
       "      <td>365</td>\n",
       "      <td>368</td>\n",
       "      <td>7</td>\n",
       "      <td>615.714286</td>\n",
       "      <td>52.142857</td>\n",
       "      <td>52.571429</td>\n",
       "      <td>0.561684</td>\n",
       "      <td>1.678069</td>\n",
       "      <td>632.019673</td>\n",
       "      <td>2.014616</td>\n",
       "      <td>premium</td>\n",
       "      <td></td>\n",
       "    </tr>\n",
       "    <tr>\n",
       "      <th>1</th>\n",
       "      <td>12348.0</td>\n",
       "      <td>282</td>\n",
       "      <td>359</td>\n",
       "      <td>4</td>\n",
       "      <td>449.310000</td>\n",
       "      <td>40.285714</td>\n",
       "      <td>51.285714</td>\n",
       "      <td>0.364322</td>\n",
       "      <td>1.087951</td>\n",
       "      <td>470.803034</td>\n",
       "      <td>1.489711</td>\n",
       "      <td>gold</td>\n",
       "      <td></td>\n",
       "    </tr>\n",
       "    <tr>\n",
       "      <th>2</th>\n",
       "      <td>12352.0</td>\n",
       "      <td>260</td>\n",
       "      <td>297</td>\n",
       "      <td>8</td>\n",
       "      <td>313.255000</td>\n",
       "      <td>37.142857</td>\n",
       "      <td>42.428571</td>\n",
       "      <td>0.739160</td>\n",
       "      <td>2.206857</td>\n",
       "      <td>320.724048</td>\n",
       "      <td>1.676528</td>\n",
       "      <td>gold</td>\n",
       "      <td></td>\n",
       "    </tr>\n",
       "    <tr>\n",
       "      <th>3</th>\n",
       "      <td>12356.0</td>\n",
       "      <td>302</td>\n",
       "      <td>326</td>\n",
       "      <td>3</td>\n",
       "      <td>937.143333</td>\n",
       "      <td>43.142857</td>\n",
       "      <td>46.571429</td>\n",
       "      <td>0.333040</td>\n",
       "      <td>0.993934</td>\n",
       "      <td>996.409652</td>\n",
       "      <td>1.946090</td>\n",
       "      <td>premium</td>\n",
       "      <td></td>\n",
       "    </tr>\n",
       "    <tr>\n",
       "      <th>4</th>\n",
       "      <td>12358.0</td>\n",
       "      <td>149</td>\n",
       "      <td>151</td>\n",
       "      <td>2</td>\n",
       "      <td>584.030000</td>\n",
       "      <td>21.285714</td>\n",
       "      <td>21.571429</td>\n",
       "      <td>0.474048</td>\n",
       "      <td>1.408955</td>\n",
       "      <td>641.967861</td>\n",
       "      <td>1.859754</td>\n",
       "      <td>premium</td>\n",
       "      <td></td>\n",
       "    </tr>\n",
       "  </tbody>\n",
       "</table>\n",
       "</div>"
      ],
      "text/plain": [
       "   Customer ID  recency_cltv_p    T  frequency  monetary_avg  \\\n",
       "0      12347.0             365  368          7    615.714286   \n",
       "1      12348.0             282  359          4    449.310000   \n",
       "2      12352.0             260  297          8    313.255000   \n",
       "3      12356.0             302  326          3    937.143333   \n",
       "4      12358.0             149  151          2    584.030000   \n",
       "\n",
       "   recency_weekly_cltv_p   T_weekly  exp_sales_1_month  exp_sales_3_month  \\\n",
       "0              52.142857  52.571429           0.561684           1.678069   \n",
       "1              40.285714  51.285714           0.364322           1.087951   \n",
       "2              37.142857  42.428571           0.739160           2.206857   \n",
       "3              43.142857  46.571429           0.333040           0.993934   \n",
       "4              21.285714  21.571429           0.474048           1.408955   \n",
       "\n",
       "   expected_average_profit    cltv_p cltv_p_segment recommended_product  \n",
       "0               632.019673  2.014616        premium                      \n",
       "1               470.803034  1.489711           gold                      \n",
       "2               320.724048  1.676528           gold                      \n",
       "3               996.409652  1.946090        premium                      \n",
       "4               641.967861  1.859754        premium                      "
      ]
     },
     "execution_count": 209,
     "metadata": {},
     "output_type": "execute_result"
    }
   ],
   "source": [
    "rfm.head()"
   ]
  },
  {
   "cell_type": "code",
   "execution_count": 213,
   "metadata": {},
   "outputs": [],
   "source": [
    "rec_products_for_Fr = rfm.loc[rfm[\"Customer ID\"].isin(france_ids)] # This is our customers from France"
   ]
  },
  {
   "cell_type": "markdown",
   "metadata": {},
   "source": [
    "##### Now we fill it with the products we determined above to recommend "
   ]
  },
  {
   "cell_type": "code",
   "execution_count": 229,
   "metadata": {},
   "outputs": [],
   "source": [
    "rec_products_for_Fr.loc[(rec_products_for_Fr[\"cltv_p_segment\"] == \"premium\"), \"recommended_product\"] = product_for_premium\n",
    "rec_products_for_Fr.loc[(rec_products_for_Fr[\"cltv_p_segment\"] == \"gold\"), \"recommended_product\"] = product_for_gold\n",
    "rec_products_for_Fr.loc[(rec_products_for_Fr[\"cltv_p_segment\"] == \"silver\"), \"recommended_product\"] = product_for_silver\n",
    "rec_products_for_Fr.loc[(rec_products_for_Fr[\"cltv_p_segment\"] == \"bronze\"), \"recommended_product\"] = product_for_bronze"
   ]
  },
  {
   "cell_type": "markdown",
   "metadata": {},
   "source": [
    "##### Lets see if it all worked out"
   ]
  },
  {
   "cell_type": "code",
   "execution_count": 231,
   "metadata": {},
   "outputs": [
    {
     "data": {
      "text/html": [
       "<div>\n",
       "<style scoped>\n",
       "    .dataframe tbody tr th:only-of-type {\n",
       "        vertical-align: middle;\n",
       "    }\n",
       "\n",
       "    .dataframe tbody tr th {\n",
       "        vertical-align: top;\n",
       "    }\n",
       "\n",
       "    .dataframe thead th {\n",
       "        text-align: right;\n",
       "    }\n",
       "</style>\n",
       "<table border=\"1\" class=\"dataframe\">\n",
       "  <thead>\n",
       "    <tr style=\"text-align: right;\">\n",
       "      <th></th>\n",
       "      <th>Customer ID</th>\n",
       "      <th>recency_cltv_p</th>\n",
       "      <th>T</th>\n",
       "      <th>frequency</th>\n",
       "      <th>monetary_avg</th>\n",
       "      <th>recency_weekly_cltv_p</th>\n",
       "      <th>T_weekly</th>\n",
       "      <th>exp_sales_1_month</th>\n",
       "      <th>exp_sales_3_month</th>\n",
       "      <th>expected_average_profit</th>\n",
       "      <th>cltv_p</th>\n",
       "      <th>cltv_p_segment</th>\n",
       "      <th>recommended_product</th>\n",
       "    </tr>\n",
       "  </thead>\n",
       "  <tbody>\n",
       "    <tr>\n",
       "      <th>34</th>\n",
       "      <td>12413.0</td>\n",
       "      <td>270</td>\n",
       "      <td>338</td>\n",
       "      <td>3</td>\n",
       "      <td>252.700000</td>\n",
       "      <td>38.571429</td>\n",
       "      <td>48.285714</td>\n",
       "      <td>0.316926</td>\n",
       "      <td>0.945974</td>\n",
       "      <td>269.642717</td>\n",
       "      <td>1.243716</td>\n",
       "      <td>silver</td>\n",
       "      <td>20719</td>\n",
       "    </tr>\n",
       "    <tr>\n",
       "      <th>50</th>\n",
       "      <td>12437.0</td>\n",
       "      <td>329</td>\n",
       "      <td>332</td>\n",
       "      <td>18</td>\n",
       "      <td>275.078333</td>\n",
       "      <td>47.000000</td>\n",
       "      <td>47.428571</td>\n",
       "      <td>1.386641</td>\n",
       "      <td>4.142881</td>\n",
       "      <td>277.983070</td>\n",
       "      <td>2.101827</td>\n",
       "      <td>premium</td>\n",
       "      <td>20685</td>\n",
       "    </tr>\n",
       "    <tr>\n",
       "      <th>77</th>\n",
       "      <td>12488.0</td>\n",
       "      <td>65</td>\n",
       "      <td>76</td>\n",
       "      <td>3</td>\n",
       "      <td>432.886667</td>\n",
       "      <td>9.285714</td>\n",
       "      <td>10.857143</td>\n",
       "      <td>0.916732</td>\n",
       "      <td>2.716994</td>\n",
       "      <td>460.971502</td>\n",
       "      <td>2.187025</td>\n",
       "      <td>premium</td>\n",
       "      <td>20685</td>\n",
       "    </tr>\n",
       "    <tr>\n",
       "      <th>78</th>\n",
       "      <td>12490.0</td>\n",
       "      <td>324</td>\n",
       "      <td>330</td>\n",
       "      <td>10</td>\n",
       "      <td>541.793000</td>\n",
       "      <td>46.285714</td>\n",
       "      <td>47.142857</td>\n",
       "      <td>0.827380</td>\n",
       "      <td>2.471411</td>\n",
       "      <td>551.805376</td>\n",
       "      <td>2.304331</td>\n",
       "      <td>premium</td>\n",
       "      <td>20685</td>\n",
       "    </tr>\n",
       "    <tr>\n",
       "      <th>80</th>\n",
       "      <td>12493.0</td>\n",
       "      <td>31</td>\n",
       "      <td>198</td>\n",
       "      <td>2</td>\n",
       "      <td>216.870000</td>\n",
       "      <td>4.428571</td>\n",
       "      <td>28.285714</td>\n",
       "      <td>0.177844</td>\n",
       "      <td>0.529325</td>\n",
       "      <td>239.665467</td>\n",
       "      <td>1.120778</td>\n",
       "      <td>bronze</td>\n",
       "      <td>20727</td>\n",
       "    </tr>\n",
       "    <tr>\n",
       "      <th>81</th>\n",
       "      <td>12494.0</td>\n",
       "      <td>349</td>\n",
       "      <td>366</td>\n",
       "      <td>7</td>\n",
       "      <td>178.014286</td>\n",
       "      <td>49.857143</td>\n",
       "      <td>52.285714</td>\n",
       "      <td>0.562613</td>\n",
       "      <td>1.680817</td>\n",
       "      <td>183.115910</td>\n",
       "      <td>1.294440</td>\n",
       "      <td>silver</td>\n",
       "      <td>20719</td>\n",
       "    </tr>\n",
       "    <tr>\n",
       "      <th>87</th>\n",
       "      <td>12508.0</td>\n",
       "      <td>2</td>\n",
       "      <td>30</td>\n",
       "      <td>2</td>\n",
       "      <td>199.135000</td>\n",
       "      <td>0.285714</td>\n",
       "      <td>4.285714</td>\n",
       "      <td>0.997679</td>\n",
       "      <td>2.941940</td>\n",
       "      <td>220.232978</td>\n",
       "      <td>1.611173</td>\n",
       "      <td>gold</td>\n",
       "      <td>20685</td>\n",
       "    </tr>\n",
       "    <tr>\n",
       "      <th>95</th>\n",
       "      <td>12523.0</td>\n",
       "      <td>312</td>\n",
       "      <td>332</td>\n",
       "      <td>11</td>\n",
       "      <td>162.706364</td>\n",
       "      <td>44.571429</td>\n",
       "      <td>47.428571</td>\n",
       "      <td>0.890184</td>\n",
       "      <td>2.659169</td>\n",
       "      <td>165.675862</td>\n",
       "      <td>1.421403</td>\n",
       "      <td>silver</td>\n",
       "      <td>20719</td>\n",
       "    </tr>\n",
       "    <tr>\n",
       "      <th>101</th>\n",
       "      <td>12535.0</td>\n",
       "      <td>94</td>\n",
       "      <td>187</td>\n",
       "      <td>2</td>\n",
       "      <td>358.175000</td>\n",
       "      <td>13.428571</td>\n",
       "      <td>26.714286</td>\n",
       "      <td>0.361144</td>\n",
       "      <td>1.074580</td>\n",
       "      <td>394.495350</td>\n",
       "      <td>1.403453</td>\n",
       "      <td>silver</td>\n",
       "      <td>20719</td>\n",
       "    </tr>\n",
       "    <tr>\n",
       "      <th>102</th>\n",
       "      <td>12536.0</td>\n",
       "      <td>15</td>\n",
       "      <td>60</td>\n",
       "      <td>3</td>\n",
       "      <td>4200.610000</td>\n",
       "      <td>2.142857</td>\n",
       "      <td>8.571429</td>\n",
       "      <td>0.915836</td>\n",
       "      <td>2.711232</td>\n",
       "      <td>4461.677780</td>\n",
       "      <td>12.451908</td>\n",
       "      <td>premium</td>\n",
       "      <td>20685</td>\n",
       "    </tr>\n",
       "  </tbody>\n",
       "</table>\n",
       "</div>"
      ],
      "text/plain": [
       "     Customer ID  recency_cltv_p    T  frequency  monetary_avg  \\\n",
       "34       12413.0             270  338          3    252.700000   \n",
       "50       12437.0             329  332         18    275.078333   \n",
       "77       12488.0              65   76          3    432.886667   \n",
       "78       12490.0             324  330         10    541.793000   \n",
       "80       12493.0              31  198          2    216.870000   \n",
       "81       12494.0             349  366          7    178.014286   \n",
       "87       12508.0               2   30          2    199.135000   \n",
       "95       12523.0             312  332         11    162.706364   \n",
       "101      12535.0              94  187          2    358.175000   \n",
       "102      12536.0              15   60          3   4200.610000   \n",
       "\n",
       "     recency_weekly_cltv_p   T_weekly  exp_sales_1_month  exp_sales_3_month  \\\n",
       "34               38.571429  48.285714           0.316926           0.945974   \n",
       "50               47.000000  47.428571           1.386641           4.142881   \n",
       "77                9.285714  10.857143           0.916732           2.716994   \n",
       "78               46.285714  47.142857           0.827380           2.471411   \n",
       "80                4.428571  28.285714           0.177844           0.529325   \n",
       "81               49.857143  52.285714           0.562613           1.680817   \n",
       "87                0.285714   4.285714           0.997679           2.941940   \n",
       "95               44.571429  47.428571           0.890184           2.659169   \n",
       "101              13.428571  26.714286           0.361144           1.074580   \n",
       "102               2.142857   8.571429           0.915836           2.711232   \n",
       "\n",
       "     expected_average_profit     cltv_p cltv_p_segment recommended_product  \n",
       "34                269.642717   1.243716         silver               20719  \n",
       "50                277.983070   2.101827        premium               20685  \n",
       "77                460.971502   2.187025        premium               20685  \n",
       "78                551.805376   2.304331        premium               20685  \n",
       "80                239.665467   1.120778         bronze               20727  \n",
       "81                183.115910   1.294440         silver               20719  \n",
       "87                220.232978   1.611173           gold               20685  \n",
       "95                165.675862   1.421403         silver               20719  \n",
       "101               394.495350   1.403453         silver               20719  \n",
       "102              4461.677780  12.451908        premium               20685  "
      ]
     },
     "execution_count": 231,
     "metadata": {},
     "output_type": "execute_result"
    }
   ],
   "source": [
    "rec_products_for_Fr.head(10)"
   ]
  },
  {
   "cell_type": "markdown",
   "metadata": {},
   "source": [
    "#### Finally our table of French Customers is ready to share with our marketing department\n",
    "#### As you can see we determined different products accoridng to our customer segmentation"
   ]
  },
  {
   "cell_type": "markdown",
   "metadata": {},
   "source": [
    "## Conclusion"
   ]
  },
  {
   "cell_type": "markdown",
   "metadata": {},
   "source": [
    "#### First we segmented our customers according to their CLTV score.\n",
    "#### Then we determined the products we will recommend according to segments of our customers all over the world.\n",
    "#### But this is not ideal. Because, eventhough people from different countries can be in same segment, but their purchase patterns and shopping behaviours can be different.\n",
    "#### To succesfully recommend products to our customers we need a lot of sub-segments to classify them correctly.\n",
    "#### To acchive that it is needlees to say we need more and more data"
   ]
  },
  {
   "cell_type": "code",
   "execution_count": null,
   "metadata": {},
   "outputs": [],
   "source": []
  },
  {
   "cell_type": "code",
   "execution_count": null,
   "metadata": {},
   "outputs": [],
   "source": []
  },
  {
   "cell_type": "code",
   "execution_count": null,
   "metadata": {},
   "outputs": [],
   "source": []
  },
  {
   "cell_type": "code",
   "execution_count": null,
   "metadata": {},
   "outputs": [],
   "source": []
  }
 ],
 "metadata": {
  "kernelspec": {
   "display_name": "Python 3",
   "language": "python",
   "name": "python3"
  },
  "language_info": {
   "codemirror_mode": {
    "name": "ipython",
    "version": 3
   },
   "file_extension": ".py",
   "mimetype": "text/x-python",
   "name": "python",
   "nbconvert_exporter": "python",
   "pygments_lexer": "ipython3",
   "version": "3.8.5"
  }
 },
 "nbformat": 4,
 "nbformat_minor": 4
}
